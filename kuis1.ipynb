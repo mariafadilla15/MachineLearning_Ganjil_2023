{
  "cells": [
    {
      "cell_type": "markdown",
      "metadata": {
        "id": "view-in-github",
        "colab_type": "text"
      },
      "source": [
        "<a href=\"https://colab.research.google.com/github/mariafadilla15/MachineLearning_Ganjil_2023/blob/main/kuis1.ipynb\" target=\"_parent\"><img src=\"https://colab.research.google.com/assets/colab-badge.svg\" alt=\"Open In Colab\"/></a>"
      ]
    },
    {
      "cell_type": "markdown",
      "metadata": {
        "id": "Rn8bN6oovQmb"
      },
      "source": [
        "#**KUIS 1 - MACHINE LEARNING**\n",
        "#**TI - 3D**"
      ]
    },
    {
      "cell_type": "markdown",
      "metadata": {
        "id": "TukWGdteu_MI"
      },
      "source": [
        "## **Nama Anggota Kelompok 8**:\n",
        "\n",
        "1. Maria Fadilla ( 15 / 2141720063)\n",
        "2. Muhammad Ega Rama Fernanda (23 / 2141720143)\n",
        "3. Muhammad Islahuddin (24 / 2141720268)"
      ]
    },
    {
      "cell_type": "markdown",
      "metadata": {
        "id": "OYaRy8_Nvv3k"
      },
      "source": [
        "##**Deskripsi Umum**\n",
        "\n",
        "Anda diminta untuk melakukan klasifikasi dengan menggunakan algoritma Naive Bayes dan SVM untuk merekognisi tulisan tangan dari dataset MNIST\n",
        "\n",
        "##**Tentang Dataset MNIST**\n",
        "Dataset MNIST (Modified National Institute of Standards and Technology) merupakan dataset berupa citra grayscale dengan ukuran 28x28 yang berisi tulisan tangan dari digit angka 0-9. Jumlah data dalam dataset ini adalah 70.000 data.\n"
      ]
    },
    {
      "cell_type": "markdown",
      "metadata": {
        "id": "ZDT77wrdu3J9"
      },
      "source": [
        "#**Mengunduh Dataset MNIST**"
      ]
    },
    {
      "cell_type": "code",
      "execution_count": 1,
      "metadata": {
        "id": "Pco-rSvOaOYg",
        "colab": {
          "base_uri": "https://localhost:8080/"
        },
        "outputId": "108602c8-3ce9-45b4-b5b8-0d485fd8c09a"
      },
      "outputs": [
        {
          "output_type": "stream",
          "name": "stderr",
          "text": [
            "/usr/local/lib/python3.10/dist-packages/sklearn/datasets/_openml.py:968: FutureWarning: The default value of `parser` will change from `'liac-arff'` to `'auto'` in 1.4. You can set `parser='auto'` to silence this warning. Therefore, an `ImportError` will be raised from 1.4 if the dataset is dense and pandas is not installed. Note that the pandas parser may return different data types. See the Notes Section in fetch_openml's API doc for details.\n",
            "  warn(\n"
          ]
        },
        {
          "output_type": "stream",
          "name": "stdout",
          "text": [
            "**Author**: Yann LeCun, Corinna Cortes, Christopher J.C. Burges  \n",
            "**Source**: [MNIST Website](http://yann.lecun.com/exdb/mnist/) - Date unknown  \n",
            "**Please cite**:  \n",
            "\n",
            "The MNIST database of handwritten digits with 784 features, raw data available at: http://yann.lecun.com/exdb/mnist/. It can be split in a training set of the first 60,000 examples, and a test set of 10,000 examples  \n",
            "\n",
            "It is a subset of a larger set available from NIST. The digits have been size-normalized and centered in a fixed-size image. It is a good database for people who want to try learning techniques and pattern recognition methods on real-world data while spending minimal efforts on preprocessing and formatting. The original black and white (bilevel) images from NIST were size normalized to fit in a 20x20 pixel box while preserving their aspect ratio. The resulting images contain grey levels as a result of the anti-aliasing technique used by the normalization algorithm. the images were centered in a 28x28 image by computing the center of mass of the pixels, and translating the image so as to position this point at the center of the 28x28 field.  \n",
            "\n",
            "With some classification methods (particularly template-based methods, such as SVM and K-nearest neighbors), the error rate improves when the digits are centered by bounding box rather than center of mass. If you do this kind of pre-processing, you should report it in your publications. The MNIST database was constructed from NIST's NIST originally designated SD-3 as their training set and SD-1 as their test set. However, SD-3 is much cleaner and easier to recognize than SD-1. The reason for this can be found on the fact that SD-3 was collected among Census Bureau employees, while SD-1 was collected among high-school students. Drawing sensible conclusions from learning experiments requires that the result be independent of the choice of training set and test among the complete set of samples. Therefore it was necessary to build a new database by mixing NIST's datasets.  \n",
            "\n",
            "The MNIST training set is composed of 30,000 patterns from SD-3 and 30,000 patterns from SD-1. Our test set was composed of 5,000 patterns from SD-3 and 5,000 patterns from SD-1. The 60,000 pattern training set contained examples from approximately 250 writers. We made sure that the sets of writers of the training set and test set were disjoint. SD-1 contains 58,527 digit images written by 500 different writers. In contrast to SD-3, where blocks of data from each writer appeared in sequence, the data in SD-1 is scrambled. Writer identities for SD-1 is available and we used this information to unscramble the writers. We then split SD-1 in two: characters written by the first 250 writers went into our new training set. The remaining 250 writers were placed in our test set. Thus we had two sets with nearly 30,000 examples each. The new training set was completed with enough examples from SD-3, starting at pattern # 0, to make a full set of 60,000 training patterns. Similarly, the new test set was completed with SD-3 examples starting at pattern # 35,000 to make a full set with 60,000 test patterns. Only a subset of 10,000 test images (5,000 from SD-1 and 5,000 from SD-3) is available on this site. The full 60,000 sample training set is available.\n",
            "\n",
            "Downloaded from openml.org.\n"
          ]
        },
        {
          "output_type": "execute_result",
          "data": {
            "text/plain": [
              "dict_keys(['data', 'target', 'frame', 'categories', 'feature_names', 'target_names', 'DESCR', 'details', 'url'])"
            ]
          },
          "metadata": {},
          "execution_count": 1
        }
      ],
      "source": [
        "# Unduh Dataset MNIST\n",
        "from sklearn.datasets import fetch_openml\n",
        "\n",
        "mnist = fetch_openml('mnist_784')\n",
        "\n",
        "# Baca deskripsi dataset\n",
        "# Tahap ini mungkin diperlukan untuk lebih memahami dataset\n",
        "print(mnist.DESCR)\n",
        "\n",
        "# Inspeksi semua key dalam dataset\n",
        "# Cara ini digunakan untuk memahami struktur dari dataset MNIST\n",
        "mnist.keys()"
      ]
    },
    {
      "cell_type": "markdown",
      "metadata": {
        "id": "G8vG1WhJwap5"
      },
      "source": [
        "#**Detail Kuis**"
      ]
    },
    {
      "cell_type": "markdown",
      "metadata": {
        "id": "d5TeyJK-3NWV"
      },
      "source": [
        "## 1. Pastikan jumlah data setiap label angka (0-9). Apakah terdapat data imbalance pada dataset MNIST yang digunakan? Jelaskan jawaban kelompok Anda dan buktikan!"
      ]
    },
    {
      "cell_type": "code",
      "execution_count": 2,
      "metadata": {
        "id": "P9cHLCD2dQdg",
        "colab": {
          "base_uri": "https://localhost:8080/",
          "height": 724
        },
        "outputId": "45da168a-f6f6-44b9-a72b-98b9a2bbe580"
      },
      "outputs": [
        {
          "output_type": "stream",
          "name": "stdout",
          "text": [
            "Label  Jumlah Data\n",
            "0      6903\n",
            "1      7877\n",
            "2      6990\n",
            "3      7141\n",
            "4      6824\n",
            "5      6313\n",
            "6      6876\n",
            "7      7293\n",
            "8      6825\n",
            "9      6958\n"
          ]
        },
        {
          "output_type": "stream",
          "name": "stderr",
          "text": [
            "<ipython-input-2-36fba7c1b002>:13: FutureWarning: iteritems is deprecated and will be removed in a future version. Use .items instead.\n",
            "  for label, count in label_counts.iteritems():\n"
          ]
        },
        {
          "output_type": "display_data",
          "data": {
            "text/plain": [
              "<Figure size 800x500 with 1 Axes>"
            ],
            "image/png": "[encoded data removed]"
          },
          "metadata": {}
        }
      ],
      "source": [
        "import pandas as pd\n",
        "from sklearn.datasets import fetch_openml\n",
        "\n",
        "# Mengonversi data MNIST ke dalam bentuk DataFrame\n",
        "df = pd.DataFrame(data=mnist.data, columns=[f'pixel_{i}' for i in range(784)])\n",
        "df['target'] = mnist.target.astype(int) # Menambahkan kolom target sebagai label\n",
        "\n",
        "# Hitung jumlah data setiap label\n",
        "label_counts = df['target'].value_counts().sort_index()\n",
        "\n",
        "# Tampilkan hasil perhitungan dengan label dan \"jumlah data\"\n",
        "print(\"Label  Jumlah Data\")\n",
        "for label, count in label_counts.iteritems():\n",
        "    print(f\"{label}      {count}\")\n",
        "\n",
        "# Menampilkan grafik batang untuk visualisasi\n",
        "import matplotlib.pyplot as plt\n",
        "\n",
        "plt.figure(figsize=(8, 5))\n",
        "plt.bar(label_counts.index, label_counts.values)\n",
        "plt.xlabel('Label Angka')\n",
        "plt.ylabel('Jumlah Data')\n",
        "plt.title('Jumlah Data Setiap Label Angka dalam MNIST')\n",
        "plt.xticks(label_counts.index)\n",
        "plt.show()"
      ]
    },
    {
      "cell_type": "markdown",
      "metadata": {
        "id": "Pv7VmqmmncZX"
      },
      "source": [
        "# Balancing Data"
      ]
    },
    {
      "cell_type": "code",
      "execution_count": 3,
      "metadata": {
        "id": "ZsKxb3LAZt8T",
        "colab": {
          "base_uri": "https://localhost:8080/",
          "height": 742
        },
        "outputId": "0362162e-b886-451d-c8ee-cb97c4000162"
      },
      "outputs": [
        {
          "output_type": "stream",
          "name": "stdout",
          "text": [
            "Label  Jumlah Data Setelah Oversampling\n",
            "0      7877\n",
            "1      7877\n",
            "2      7877\n",
            "3      7877\n",
            "4      7877\n",
            "5      7877\n",
            "6      7877\n",
            "7      7877\n",
            "8      7877\n",
            "9      7877\n"
          ]
        },
        {
          "output_type": "stream",
          "name": "stderr",
          "text": [
            "<ipython-input-3-76271b337257>:20: FutureWarning: iteritems is deprecated and will be removed in a future version. Use .items instead.\n",
            "  for label, count in label_counts_resampled.iteritems():\n"
          ]
        },
        {
          "output_type": "display_data",
          "data": {
            "text/plain": [
              "<Figure size 800x500 with 1 Axes>"
            ],
            "image/png": "[encoded data removed]"
          },
          "metadata": {}
        },
        {
          "output_type": "stream",
          "name": "stdout",
          "text": [
            "Rasio Kelas: 1.00\n"
          ]
        }
      ],
      "source": [
        "from imblearn.over_sampling import RandomOverSampler\n",
        "import numpy as np\n",
        "from sklearn.model_selection import train_test_split\n",
        "\n",
        "# Hitung jumlah data setiap label\n",
        "X = df.drop(columns=['target'])\n",
        "y = df['target']\n",
        "\n",
        "# Menentukan rasio oversampling untuk setiap kelas\n",
        "oversampler = RandomOverSampler(random_state=42)\n",
        "\n",
        "# Menggunakan RandomOverSampler untuk melakukan oversampling\n",
        "X_resampled, y_resampled = oversampler.fit_resample(X, y)\n",
        "\n",
        "# Menghitung jumlah data setelah oversampling\n",
        "label_counts_resampled = pd.Series(y_resampled).value_counts().sort_index()\n",
        "\n",
        "# Menampilkan hasil perhitungan dengan label dan \"jumlah data\" setelah oversampling\n",
        "print(\"Label  Jumlah Data Setelah Oversampling\")\n",
        "for label, count in label_counts_resampled.iteritems():\n",
        "    print(f\"{label}      {count}\")\n",
        "\n",
        "# Menampilkan grafik batang untuk visualisasi setelah oversampling\n",
        "plt.figure(figsize=(8, 5))\n",
        "plt.bar(label_counts_resampled.index, label_counts_resampled.values)\n",
        "plt.xlabel('Label Angka')\n",
        "plt.ylabel('Jumlah Data Setelah Oversampling')\n",
        "plt.title('Jumlah Data Setiap Label Angka Setelah Oversampling dalam MNIST')\n",
        "plt.xticks(label_counts_resampled.index)\n",
        "plt.show()\n",
        "\n",
        "class_counts = np.bincount(y_resampled)\n",
        "majority_class_count = np.max(class_counts)\n",
        "minority_class_count = np.min(class_counts)\n",
        "\n",
        "# Hitung rasio kelas\n",
        "class_ratio = majority_class_count / minority_class_count\n",
        "\n",
        "print(f\"Rasio Kelas: {class_ratio:.2f}\")"
      ]
    },
    {
      "cell_type": "markdown",
      "metadata": {
        "id": "Z_yIw-6Dth62"
      },
      "source": [
        "**Analisis Hasil**\n",
        "\n",
        "Berdasarkan hasil di atas, terlihat bahwa dataset MNIST relatif seimbang karena jumlah data setiap label tidak memiliki perbedaan yang signifikan dimana label dari 0 hingga 9 memiliki jumlah data yang mendekati jumlah yang sama, dengan perbedaan yang cukup kecil antara jumlah data terbanyak (label 1 dengan 7,877 data) dan jumlah data terdikit (label 5 dengan 6,313 data).\n",
        "\n",
        "Dengan demikian, dari hasil tersebut dapat disimpulkan bahwa dataset MNIST yang yang digunakan tidak mengalami ketidakseimbangan (imbalance) yang signifikan, dan dapat dilanjutkan pemodelan atau analisis lebih lanjut tanpa perlu melakukan tindakan khusus untuk mengatasi masalah ketidakseimbangan."
      ]
    },
    {
      "cell_type": "markdown",
      "metadata": {
        "id": "eV5vr2ud3BQn"
      },
      "source": [
        "## 2. Tampilkan 15 buah citra pertama dari dataset MNIST berserta labelnya. Anda dapat menggunakan referensi dari Job Sheet 03."
      ]
    },
    {
      "cell_type": "code",
      "execution_count": 4,
      "metadata": {
        "id": "VGd0YuGm3UxB",
        "colab": {
          "base_uri": "https://localhost:8080/",
          "height": 521
        },
        "outputId": "bf1f39c4-6187-4ce6-b89c-86d98003e48c"
      },
      "outputs": [
        {
          "output_type": "display_data",
          "data": {
            "text/plain": [
              "<Figure size 1200x600 with 15 Axes>"
            ],
            "image/png": "[encoded data removed]"
          },
          "metadata": {}
        }
      ],
      "source": [
        "from sklearn.datasets import fetch_openml\n",
        "import matplotlib.pyplot as plt\n",
        "\n",
        "# Pisahkan fitur (X) dan target (y)\n",
        "X = mnist.data\n",
        "y = mnist.target.astype(int)\n",
        "\n",
        "# Menampilkan 15 citra pertama berserta labelnya\n",
        "plt.figure(figsize=(12, 6))\n",
        "for i in range(15):\n",
        "    plt.subplot(3, 5, i + 1)\n",
        "    plt.imshow(X.iloc[i].values.reshape(28, 28), cmap='gray')\n",
        "    plt.title(f'Label: {y[i]}')\n",
        "    plt.axis('off')\n",
        "plt.show()"
      ]
    },
    {
      "cell_type": "markdown",
      "metadata": {
        "id": "5v-lONN23l5V"
      },
      "source": [
        "## 3. Lakukan proses ekstraksi fitur pada data MNIST. Pada proses ini, Anda diperbolehkan untuk\n",
        "* Langsung menggunakan nilai asli dari citra (nilai asli setiap pixel dari dataset) sebagai fitur.\n",
        "* Melakukan ekstraksi fitur lain seperti histogram, PCA, atau yang lainnya. Anda diperbolehkan melakukan ekspolarasi pada proses ini.\n"
      ]
    },
    {
      "cell_type": "code",
      "execution_count": 5,
      "metadata": {
        "id": "3ybGsXB-3x1w"
      },
      "outputs": [],
      "source": [
        "from sklearn.datasets import fetch_openml\n",
        "from sklearn.model_selection import train_test_split\n",
        "\n",
        "# Membagi dataset menjadi data latih dan data uji\n",
        "X_train, X_test, y_train, y_test = train_test_split(X, y, test_size=0.2, random_state=42)\n",
        "\n",
        "# Normalisasi nilai piksel ke rentang 0 hingga 1\n",
        "X_train = X_train.astype('float32') / 255.0\n",
        "X_test = X_test.astype('float32') / 255.0\n",
        "\n",
        "# Sekarang, X_train adalah matriks fitur dengan setiap baris adalah vektor fitur dari satu citra"
      ]
    },
    {
      "cell_type": "code",
      "execution_count": 6,
      "metadata": {
        "id": "rvd-Ik4k31FA",
        "colab": {
          "base_uri": "https://localhost:8080/",
          "height": 410
        },
        "outputId": "96e1e056-f98a-47ac-e84a-a8519359bdf0"
      },
      "outputs": [
        {
          "output_type": "display_data",
          "data": {
            "text/plain": [
              "<Figure size 800x400 with 1 Axes>"
            ],
            "image/png": "[encoded data removed]"
          },
          "metadata": {}
        }
      ],
      "source": [
        "import numpy as np\n",
        "import matplotlib.pyplot as plt\n",
        "from sklearn.datasets import fetch_openml\n",
        "\n",
        "# Ambil salah satu citra sebagai contoh\n",
        "sample_image = X.iloc[0].values.reshape(28, 28)  # Ambil citra pertama\n",
        "\n",
        "# Fungsi untuk menghitung histogram citra\n",
        "def compute_histogram(image):\n",
        "    # Hitung histogram citra dengan 256 bin (untuk gambar grayscale)\n",
        "    hist, _ = np.histogram(image, bins=256, range=(0, 256))\n",
        "    return hist\n",
        "\n",
        "# Hitung histogram dari citra contoh\n",
        "sample_histogram = compute_histogram(sample_image)\n",
        "\n",
        "# Tampilkan histogram dari citra contoh\n",
        "plt.figure(figsize=(8, 4))\n",
        "plt.plot(sample_histogram)\n",
        "plt.title(\"Histogram dari Satu Citra MNIST\")\n",
        "plt.xlabel(\"Nilai Piksel\")\n",
        "plt.ylabel(\"Frekuensi\")\n",
        "plt.show()\n"
      ]
    },
    {
      "cell_type": "markdown",
      "metadata": {
        "id": "TtH6BO2y38pU"
      },
      "source": [
        "## 4. Buatlah data training dan data testing menggunakan rasio 70:30, 80:20, 90:10."
      ]
    },
    {
      "cell_type": "code",
      "execution_count": 7,
      "metadata": {
        "id": "SRwlGFtx0t-u",
        "colab": {
          "base_uri": "https://localhost:8080/"
        },
        "outputId": "73e1de70-2f98-4a36-80ea-407d695f2672"
      },
      "outputs": [
        {
          "output_type": "stream",
          "name": "stdout",
          "text": [
            "Rasio 70:30\n",
            "Data Training: (49000, 784) (49000,)\n",
            "Data Testing: (21000, 784) (21000,)\n",
            "\n",
            "Rasio 80:20\n",
            "Data Training: (56000, 784) (56000,)\n",
            "Data Testing: (14000, 784) (14000,)\n",
            "\n",
            "Rasio 90:10\n",
            "Data Training: (63000, 784) (63000,)\n",
            "Data Testing: (7000, 784) (7000,)\n",
            "\n"
          ]
        }
      ],
      "source": [
        "from sklearn.datasets import fetch_openml\n",
        "from sklearn.model_selection import train_test_split\n",
        "\n",
        "# Pisahkan fitur (X) dan target (y)\n",
        "X = mnist.data\n",
        "y = mnist.target\n",
        "\n",
        "# Bagi dataset menjadi data latih dan data uji dengan rasio yang berbeda\n",
        "# 70:30\n",
        "X_train_70, X_test_70, y_train_70, y_test_70 = train_test_split(X, y, test_size=0.3, random_state=42)\n",
        "# Tampilkan ukuran setiap bagian data\n",
        "print(\"Rasio 70:30\")\n",
        "print(\"Data Training:\", X_train_70.shape, y_train_70.shape)\n",
        "print(\"Data Testing:\", X_test_70.shape, y_test_70.shape)\n",
        "print(\"\")\n",
        "\n",
        "# 80:20\n",
        "X_train_80, X_test_80, y_train_80, y_test_80 = train_test_split(X, y, test_size=0.2, random_state=42)\n",
        "print(\"Rasio 80:20\")\n",
        "print(\"Data Training:\", X_train_80.shape, y_train_80.shape)\n",
        "print(\"Data Testing:\", X_test_80.shape, y_test_80.shape)\n",
        "print(\"\")\n",
        "\n",
        "# 90:10\n",
        "X_train_90, X_test_90, y_train_90, y_test_90 = train_test_split(X, y, test_size=0.1, random_state=42)\n",
        "print(\"Rasio 90:10\")\n",
        "print(\"Data Training:\", X_train_90.shape, y_train_90.shape)\n",
        "print(\"Data Testing:\", X_test_90.shape, y_test_90.shape)\n",
        "print(\"\")"
      ]
    },
    {
      "cell_type": "markdown",
      "metadata": {
        "id": "tfzN7Cdl4BZO"
      },
      "source": [
        "## 5. Lakukan proses klasifikasi dengan menggunakan algoritma Naive Bayes dan SVM.\n",
        "* Anda diperbolehkan untuk melakukan tunning parameter.\n",
        "* Anda diperbolehkan mengeksplorasi jenis kernel yang digunakan pada SVM"
      ]
    },
    {
      "cell_type": "markdown",
      "metadata": {
        "id": "3dwxfXnD5yZQ"
      },
      "source": [
        "- **70:30**"
      ]
    },
    {
      "cell_type": "markdown",
      "source": [
        "Naive Bayes"
      ],
      "metadata": {
        "id": "x9yUkfMdAmTJ"
      }
    },
    {
      "cell_type": "code",
      "execution_count": 8,
      "metadata": {
        "colab": {
          "base_uri": "https://localhost:8080/"
        },
        "id": "AoC_R6Oo4Dz-",
        "outputId": "ee5278a6-8309-4007-af10-beadba544c53"
      },
      "outputs": [
        {
          "output_type": "stream",
          "name": "stdout",
          "text": [
            "Akurasi Naive Bayes: 0.550952380952381\n"
          ]
        }
      ],
      "source": [
        "from sklearn.naive_bayes import GaussianNB\n",
        "from sklearn.svm import SVC\n",
        "from sklearn.metrics import accuracy_score\n",
        "\n",
        "# Klasifikasi dengan Naive Bayes\n",
        "naive_bayes = GaussianNB()\n",
        "naive_bayes.fit(X_train_70, y_train_70)\n",
        "y_pred_nb = naive_bayes.predict(X_test_70)\n",
        "accuracy_nb = accuracy_score(y_test_70, y_pred_nb)\n",
        "print(\"Akurasi Naive Bayes:\", accuracy_nb)"
      ]
    },
    {
      "cell_type": "markdown",
      "source": [
        "SVM"
      ],
      "metadata": {
        "id": "GRKo4yDPAsM1"
      }
    },
    {
      "cell_type": "code",
      "source": [
        "# Klasifikasi dengan SVM menggunakan kernel linear\n",
        "svm_linear = SVC()\n",
        "svm_linear.fit(X_train_70, y_train_70)\n",
        "y_pred_linear = svm_linear.predict(X_test_70)\n",
        "accuracy_linear = accuracy_score(y_test_70, y_pred_linear)\n",
        "print(\"Akurasi SVM (Linear Kernel):\", accuracy_linear)"
      ],
      "metadata": {
        "id": "9fe8uYGYAvbV",
        "colab": {
          "base_uri": "https://localhost:8080/"
        },
        "outputId": "3d3d7ea1-fd3c-4339-8d36-8a0a93f29c21"
      },
      "execution_count": 9,
      "outputs": [
        {
          "output_type": "stream",
          "name": "stdout",
          "text": [
            "Akurasi SVM (Linear Kernel): 0.9762857142857143\n"
          ]
        }
      ]
    },
    {
      "cell_type": "markdown",
      "metadata": {
        "id": "x9LCa8rwOHG-"
      },
      "source": [
        "- **80:20**"
      ]
    },
    {
      "cell_type": "code",
      "execution_count": null,
      "metadata": {
        "id": "F9gZrb995xU-",
        "colab": {
          "base_uri": "https://localhost:8080/"
        },
        "outputId": "93a42a32-8d19-4920-fac6-e1ecb1d56bd0"
      },
      "outputs": [
        {
          "output_type": "stream",
          "name": "stdout",
          "text": [
            "Akurasi Naive Bayes: 0.5515714285714286\n"
          ]
        }
      ],
      "source": [
        "from sklearn.naive_bayes import GaussianNB\n",
        "from sklearn.svm import SVC\n",
        "from sklearn.metrics import accuracy_score\n",
        "\n",
        "# Klasifikasi dengan Naive Bayes\n",
        "naive_bayes = GaussianNB()\n",
        "naive_bayes.fit(X_train_80, y_train_80)\n",
        "y_pred_nb = naive_bayes.predict(X_test_80)\n",
        "accuracy_nb = accuracy_score(y_test_80, y_pred_nb)\n",
        "print(\"Akurasi Naive Bayes:\", accuracy_nb)\n",
        "\n",
        "# Klasifikasi dengan SVM menggunakan kernel linear\n",
        "svm_linear = SVC(kernel='linear', C=1.0)\n",
        "svm_linear.fit(X_train_80, y_train_80)\n",
        "y_pred_linear = svm_linear.predict(X_test_80)\n",
        "accuracy_linear = accuracy_score(y_test_80, y_pred_linear)\n",
        "print(\"Akurasi SVM (Linear Kernel):\", accuracy_linear)"
      ]
    },
    {
      "cell_type": "markdown",
      "metadata": {
        "id": "33RaUaNNc8SL"
      },
      "source": [
        "- **90:10**"
      ]
    },
    {
      "cell_type": "code",
      "execution_count": null,
      "metadata": {
        "id": "tXirGFeddBC0"
      },
      "outputs": [],
      "source": [
        "from sklearn.naive_bayes import GaussianNB\n",
        "from sklearn.svm import SVC\n",
        "from sklearn.metrics import accuracy_score\n",
        "\n",
        "# Klasifikasi dengan Naive Bayes\n",
        "naive_bayes = GaussianNB()\n",
        "naive_bayes.fit(X_train_90, y_train_90)\n",
        "y_pred_nb = naive_bayes.predict(X_test_90)\n",
        "accuracy_nb = accuracy_score(y_test_90, y_pred_nb)\n",
        "print(\"Akurasi Naive Bayes:\", accuracy_nb)\n",
        "\n",
        "# Klasifikasi dengan SVM menggunakan kernel linear\n",
        "svm_linear = SVC(kernel='linear', C=1.0)\n",
        "svm_linear.fit(X_train_90, y_train_90)\n",
        "y_pred_linear = svm_linear.predict(X_test_90)\n",
        "accuracy_linear = accuracy_score(y_test_90, y_pred_linear)\n",
        "print(\"Akurasi SVM (Linear Kernel):\", accuracy_linear)"
      ]
    },
    {
      "cell_type": "markdown",
      "metadata": {
        "id": "tfdoG9BJ5yLn"
      },
      "source": [
        "## 6. Evaluasi model yang Anda buat terhadap data training dan data testing. Gunakan metric accuracy untuk mengetahui tingkat akurasi data training dan data testing.\n",
        "* Gunakan fungsi classification_report untuk mengetahui performa model secara holistik.\n",
        "* Gunakan confusion matrix untuk mengetahui tingkat ketepatan pelabelan."
      ]
    },
    {
      "cell_type": "code",
      "execution_count": null,
      "metadata": {
        "id": "Rn6xksbj4XOe"
      },
      "outputs": [],
      "source": [
        "from sklearn.metrics import accuracy_score, classification_report, confusion_matrix\n",
        "\n",
        "# Evaluasi model Naive Bayes pada data training\n",
        "y_train_pred_nb = naive_bayes.predict(X_train_70)\n",
        "accuracy_train_nb = accuracy_score(y_train_70, y_train_pred_nb)\n",
        "print(\"Akurasi Naive Bayes pada Data Training:\", accuracy_train_nb)\n",
        "print(\"Classification Report Naive Bayes pada Data Training:\\n\", classification_report(y_train_70, y_train_pred_nb))\n",
        "print(\"Confusion Matrix Naive Bayes pada Data Training:\\n\", confusion_matrix(y_train_70, y_train_pred_nb))\n",
        "\n",
        "# Evaluasi model Naive Bayes pada data testing\n",
        "accuracy_test_nb = accuracy_score(y_test, y_pred_nb)\n",
        "print(\"\\nAkurasi Naive Bayes pada Data Testing:\", accuracy_test_nb)\n",
        "print(\"Classification Report Naive Bayes pada Data Testing:\\n\", classification_report(y_test, y_pred_nb))\n",
        "print(\"Confusion Matrix Naive Bayes pada Data Testing:\\n\", confusion_matrix(y_test, y_pred_nb))\n",
        "\n",
        "# Evaluasi model SVM (Linear Kernel) pada data training\n",
        "y_train_pred_linear = svm_linear.predict(X_train_70)\n",
        "accuracy_train_linear = accuracy_score(y_train_70, y_train_pred_linear)\n",
        "print(\"\\nAkurasi SVM (Linear Kernel) pada Data Training:\", accuracy_train_linear)\n",
        "print(\"Classification Report SVM (Linear Kernel) pada Data Training:\\n\", classification_report(y_train_70, y_train_pred_linear))\n",
        "print(\"Confusion Matrix SVM (Linear Kernel) pada Data Training:\\n\", confusion_matrix(y_train_70, y_train_pred_linear))"
      ]
    },
    {
      "cell_type": "markdown",
      "metadata": {
        "id": "2fhYsYCC402G"
      },
      "source": [
        "## 7. Tampilkan citra data testing berserta hasil pelabelannya. Anda dapat menggunakan Job Sheet 03 sebagai acuan."
      ]
    },
    {
      "cell_type": "markdown",
      "source": [
        "- 70:30"
      ],
      "metadata": {
        "id": "sfnhbiNZI9dV"
      }
    },
    {
      "cell_type": "markdown",
      "source": [
        "Naive Bayes"
      ],
      "metadata": {
        "id": "QgRt61hhI7LX"
      }
    },
    {
      "cell_type": "code",
      "source": [
        "from sklearn.naive_bayes import MultinomialNB\n",
        "\n",
        "# Membuat dan melatih model Multinomial Naive Bayes\n",
        "mnb2 = MultinomialNB()\n",
        "mnb2.fit(X_train_70, y_train_70)\n",
        "\n",
        "# Pilih beberapa contoh citra dari data pengujian\n",
        "num_samples = 5  # Ganti jumlah contoh yang ingin ditampilkan sesuai kebutuhan\n",
        "\n",
        "# Membuat layout subplot horizontal\n",
        "fig, axs = plt.subplots(1, num_samples, figsize=(15, 4))\n",
        "\n",
        "for i in range(num_samples):\n",
        "    sample_index = np.random.randint(len(X_test_70))\n",
        "    sample_image = X_test_70[sample_index]\n",
        "    true_label = y_test_70[sample_index]\n",
        "\n",
        "    # Prediksi dengan model Multinomial Naive Bayes\n",
        "    nb_prediction = mnb2.predict([sample_image])[0]\n",
        "\n",
        "    # Menampilkan citra pengujian dan hasil prediksi\n",
        "    axs[i].imshow(np.reshape(sample_image, (28, 28)), cmap='gray')\n",
        "    axs[i].set_title(f\"Label Asli: {true_label}\\nLabel Prediksi: {nb_prediction}\")\n",
        "    axs[i].axis('off')\n",
        "\n",
        "plt.show()"
      ],
      "metadata": {
        "id": "BqhUTu5-I85F"
      },
      "execution_count": null,
      "outputs": []
    },
    {
      "cell_type": "markdown",
      "source": [
        "SVM"
      ],
      "metadata": {
        "id": "pzH3dQ4eI57f"
      }
    },
    {
      "cell_type": "code",
      "execution_count": null,
      "metadata": {
        "id": "YKsk2qf_44mo"
      },
      "outputs": [],
      "source": [
        "# 7\n",
        "\n",
        "import matplotlib.pyplot as plt\n",
        "import numpy as np\n",
        "\n",
        "# Pilih beberapa contoh citra dari data testing\n",
        "sample_indices = np.random.choice(len(X_test_70), 5)  # Ubah 5 menjadi jumlah contoh yang ingin ditampilkan\n",
        "sample_images = X_test_70[sample_indices]\n",
        "sample_labels = y_pred_linear[sample_indices]\n",
        "\n",
        "# Label asli dari contoh-contoh ini\n",
        "true_labels = y_test_70[sample_indices]\n",
        "\n",
        "# Menampilkan citra dan hasil pelabelannya\n",
        "plt.figure(figsize=(12, 6))\n",
        "for i, (image, predicted_label, true_label) in enumerate(zip(sample_images, sample_labels, true_labels)):\n",
        "    plt.subplot(1, 5, i + 1)\n",
        "    plt.imshow(image.reshape(28, 28), cmap='gray')\n",
        "    plt.title(f'Prediksi: {predicted_label}\\nAsli: {true_label}')\n",
        "    plt.axis('off')\n",
        "plt.show()"
      ]
    },
    {
      "cell_type": "markdown",
      "metadata": {
        "id": "XfLeE-oX4892"
      },
      "source": [
        "## 8. Apa model terbaik yang Anda dapatkan? Bagaimana konfigurasinya? Berapa tingkat akurasi yang didapatkan? Jelaskan!"
      ]
    }
  ],
  "metadata": {
    "accelerator": "TPU",
    "colab": {
      "provenance": [],
      "include_colab_link": true
    },
    "kernelspec": {
      "display_name": "Python 3",
      "name": "python3"
    },
    "language_info": {
      "name": "python"
    }
  },
  "nbformat": 4,
  "nbformat_minor": 0
}