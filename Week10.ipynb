{
  "nbformat": 4,
  "nbformat_minor": 0,
  "metadata": {
    "colab": {
      "provenance": [],
      "collapsed_sections": [
        "V1htwBA0LsuK",
        "Fx8gzZJGMGIr",
        "HUBFARmNQUbL",
        "VjUESD_BRpbJ",
        "wInbLQtERfRi",
        "VUNq9NAoV8kI",
        "QiamboHiWJWc",
        "YqjDdKL-viKQ",
        "DX4CHbheDOra",
        "bm8N2WjLUypc",
        "zbdQrRR-V_bk",
        "aeHQR3kIW0W8",
        "XUtOSMPjXUCV",
        "mqIALQNGZDjO",
        "9NevZPJyby_2",
        "i6oKGBOjsWV7",
        "tOyhrUz5lOjl"
      ],
      "toc_visible": true,
      "gpuType": "T4",
      "authorship_tag": "ABX9TyNcI+eKivfgK/JQhRn9tZDX"
    },
    "kernelspec": {
      "name": "python3",
      "display_name": "Python 3"
    },
    "language_info": {
      "name": "python"
    },
    "accelerator": "GPU"
  },
  "cells": [
    {
      "cell_type": "markdown",
      "source": [
        "# **Jobsheet 10: Recurrent Neural Network (RNN)**\n",
        "\n",
        "Maria Fadilla"
      ],
      "metadata": {
        "id": "ulGJDtWWLGMc"
      }
    },
    {
      "cell_type": "markdown",
      "source": [
        "## **Praktikum 1 - RNN untuk Analisis Sentimen**"
      ],
      "metadata": {
        "id": "V1htwBA0LsuK"
      }
    },
    {
      "cell_type": "markdown",
      "source": [
        "### Setup\n",
        "Impor matplotlib dan buat fungsi pembantu untuk memplot grafik"
      ],
      "metadata": {
        "id": "tYzkYvwCLzyQ"
      }
    },
    {
      "cell_type": "code",
      "source": [
        "import numpy as np\n",
        "import tensorflow_datasets as tfds\n",
        "import tensorflow as tf\n",
        "\n",
        "tfds.disable_progress_bar()"
      ],
      "metadata": {
        "id": "onTob_02LFMw"
      },
      "execution_count": null,
      "outputs": []
    },
    {
      "cell_type": "code",
      "execution_count": null,
      "metadata": {
        "id": "gcuNfTHgK9G1"
      },
      "outputs": [],
      "source": [
        "import matplotlib.pyplot as plt\n",
        "\n",
        "def plot_graphs(history, metric):\n",
        "    plt.plot(history.history[metric])\n",
        "    plt.plot(history.history['val_'+metric], '')\n",
        "    plt.xlabel(\"Epochs\")\n",
        "    plt.ylabel(metric)\n",
        "    plt.legend([metric, 'val_'+metric])\n"
      ]
    },
    {
      "cell_type": "markdown",
      "source": [
        "### **Setup input pipeline**\n",
        "\n",
        "Dataset ulasan film IMDB adalah kumpulan data klasifikasi biner—semua ulasan memiliki sentimen positif atau negatif.\n",
        "\n",
        "Download dataset menggunakan [TFDS](https://www.tensorflow.org/datasets). Lihat [loading text tutorial](https://www.tensorflow.org/tutorials/load_data/text) jika ingin me load data secara manual"
      ],
      "metadata": {
        "id": "Fx8gzZJGMGIr"
      }
    },
    {
      "cell_type": "code",
      "source": [
        "dataset, info = tfds.load('imdb_reviews', with_info=True,\n",
        "                          as_supervised=True)\n",
        "train_dataset, test_dataset = dataset['train'], dataset['test']\n",
        "\n",
        "train_dataset.element_spec"
      ],
      "metadata": {
        "colab": {
          "base_uri": "https://localhost:8080/"
        },
        "id": "gmZur_nwMdg1",
        "outputId": "8fad7a14-981f-4e17-fd02-9c18164543fd"
      },
      "execution_count": null,
      "outputs": [
        {
          "output_type": "stream",
          "name": "stdout",
          "text": [
            "Downloading and preparing dataset 80.23 MiB (download: 80.23 MiB, generated: Unknown size, total: 80.23 MiB) to /root/tensorflow_datasets/imdb_reviews/plain_text/1.0.0...\n",
            "Dataset imdb_reviews downloaded and prepared to /root/tensorflow_datasets/imdb_reviews/plain_text/1.0.0. Subsequent calls will reuse this data.\n"
          ]
        },
        {
          "output_type": "execute_result",
          "data": {
            "text/plain": [
              "(TensorSpec(shape=(), dtype=tf.string, name=None),\n",
              " TensorSpec(shape=(), dtype=tf.int64, name=None))"
            ]
          },
          "metadata": {},
          "execution_count": 5
        }
      ]
    },
    {
      "cell_type": "markdown",
      "source": [
        "Awalnya ini mengembalikan dataset (teks, pasangan label):"
      ],
      "metadata": {
        "id": "jqRwtHZMPfFj"
      }
    },
    {
      "cell_type": "code",
      "source": [
        "for example, label in train_dataset.take(1):\n",
        "  print('text: ', example.numpy())\n",
        "  print('label: ', label.numpy())"
      ],
      "metadata": {
        "colab": {
          "base_uri": "https://localhost:8080/"
        },
        "id": "5fN9PLIYPasH",
        "outputId": "ee5937c9-76c8-4fb5-d3e5-907b66cc08a1"
      },
      "execution_count": null,
      "outputs": [
        {
          "output_type": "stream",
          "name": "stdout",
          "text": [
            "text:  b\"This was an absolutely terrible movie. Don't be lured in by Christopher Walken or Michael Ironside. Both are great actors, but this must simply be their worst role in history. Even their great acting could not redeem this movie's ridiculous storyline. This movie is an early nineties US propaganda piece. The most pathetic scenes were those when the Columbian rebels were making their cases for revolutions. Maria Conchita Alonso appeared phony, and her pseudo-love affair with Walken was nothing but a pathetic emotional plug in a movie that was devoid of any real meaning. I am disappointed that there are movies like this, ruining actor's like Christopher Walken's good name. I could barely sit through it.\"\n",
            "label:  0\n"
          ]
        }
      ]
    },
    {
      "cell_type": "markdown",
      "source": [
        "Berikutnya acak data untuk pelatihan dan membuat kumpulan pasangan (teks, label) ini:"
      ],
      "metadata": {
        "id": "OmB-Qol1QPYR"
      }
    },
    {
      "cell_type": "code",
      "source": [
        "BUFFER_SIZE = 10000\n",
        "BATCH_SIZE = 64\n",
        "\n",
        "train_dataset = train_dataset.shuffle(BUFFER_SIZE).batch(BATCH_SIZE).prefetch(tf.data.AUTOTUNE)\n",
        "test_dataset = test_dataset.batch(BATCH_SIZE).prefetch(tf.data.AUTOTUNE)\n",
        "\n",
        "for example, label in train_dataset.take(1):\n",
        "  print('texts: ', example.numpy()[:3])\n",
        "  print()\n",
        "  print('labels: ', label.numpy()[:3])"
      ],
      "metadata": {
        "colab": {
          "base_uri": "https://localhost:8080/"
        },
        "id": "Nj4NTYOZQQ7S",
        "outputId": "916d34d8-a377-4c9e-a690-fc116026d559"
      },
      "execution_count": null,
      "outputs": [
        {
          "output_type": "stream",
          "name": "stdout",
          "text": [
            "texts:  [b\"If you cannot enjoy a chick flick, stop right now. If, however, you enjoy films that illustrate complex characters and provide extraordinary acting, read on.<br /><br />Ann Grant Lord is dying. Her two daughters arrive to be at her bedside. Ann begins talking about people from her past of whom the daughters are unaware, and they question as to whether these lost acquaintances are real or imagined. They come to realize that these people from their mother's past are, indeed, real.<br /><br />The story shifts, basically, between 1953 and circa 2000 with a few glimpses at Ann's life between those years. It was in 1953 that Ann met the love of her life and experienced her life's greatest tragedy.<br /><br />One of Ann's two best friends from college, Lila, is being married. Ann's other best friend is Lila's brother, Buddy. Lila and Buddy are the children of a rich Newport family, whereas Ann is a cabaret singer living in Greenwich Village who wants to be a free spirit but is still bound by many of those 1950's conventions.<br /><br />Soon after Ann arrives to be maid of honor at Lila's wedding, she meets the person who will become the pivotal character in the lives of the three - Harris. He is the adult son of a former servant of the family who grew up with Lila and Buddy and has gone on to become a physician in a small New England town. Ann immediately becomes enamored of Harris which adds a complication to the fact that Lila has always been in love with Harris and continues to be. Buddy, also, is in love with Harris, but being 1953, he has redirected that homosexual desire for Harris to his good friend, Ann for he cannot admit to himself that he has a sexual craving for another man. Buddy exhibits his inner frustration outwardly by being the alcoholic, wise-cracking bad boy of the family - much to the chagrin of his very proper and uptight parents.<br /><br />Needless to say, all of these expressed and repressed emotions lead to tragedy - after all this is a chick flick.<br /><br />In the present time, Ann's daughters have become distant from their mother and are suffering their own life realizations and doubts. Constance is working to emotional exhaustion trying to keep up her roll as perfect mother and wife. Nina, having always felt inferior, cannot maintain a relationship.<br /><br />Stir all of these relationships into a span of fifty years, and you get an intriguing look at society, its values, and its effects upon the personalities and actions of the complex people involved.<br /><br />All of the acting in Evening is excellent, but there are some extraordinary performances and scenes - along with two unique family relationships - that make this film so very, very special.<br /><br />Claire Danes plays the 1950's Ann, and she does it in a style that clearly shows an intelligent woman of those times who is conflicted by what she is supposed to do as opposed to what she wants to do. Her performance is not easily forgettable.<br /><br />Vanessa Redgrave plays the dying Ann whose mind shifts from the present, to the past, to flights of fantasy, and of course, Redgrave pulls it all off with sterling style.<br /><br />Natasha Richardson - Redgrave's real daughter - plays Ann's daughter, Constance, in the film. The scenes between this real life mother and daughter playing fictional mother and daughter are an insightful treat to watch.<br /><br />Toni Collette plays Ann's other daughter, Nina. Nina spends a good deal of her time being depressed and feeling sorry for herself while shutting out a good man who loves her as well as her mother and sister. Collette is perfect for a part such as this, but I have never seen her give a bad or unbelievable performance no matter what part she plays.<br /><br />Mamie Gummer plays 1950's Lila and shows us a woman even more conflicted of her expected role in life than her good friend, Ann. She is very good.<br /><br />Meryl Streep - Gummer's mother - plays present day Lila. What is there to say about Meryl Streep other than she always gives an insightful and rewarding performance.<br /><br />Director Lajos Koltai states in the DVD extras that he sought out Glenn Close to play the relatively small part of Lila's mother because he felt she was the only actress he could think of to play one scene in the film. He certainly was right, and Close's performance in that one scene etches it in your mind. All the other scenes in which Close is Lila's very proper mother, and you get another performance to treasure.<br /><br />There are three other scenes in the film, combined with the one featuring Close described above, that make the whole movie worth watching. On Lila's wedding day, Ann comes into her room and crawls into to bed with her friend to discuss Lila's misforgivings about her upcoming wedding to a man she clearly does not love. This scene is repeated fifty years later when Lila comes and crawls into bed with her dying friend Ann to talk about the lives they have lived. In this latter scene, Streep and Redgrave are enthralling.<br /><br />The other memorable scene - at least to me - is when Buddy declares his love for Ann. Hugh Dancy as Buddy gives us a heartbreaking performance of a young man torn apart by his conflicting sexual feelings. His performance is superior.<br /><br />Chick flick? Yes. A very special film with unbelievable acting, directing, and scenery? Definitely. I cannot recommend Evening too much.\"\n",
            " b'Based on fact, this is the story of a teenager named Homer Hickam (Jake Gyllenhaal), growing up in a coal town in West Virginia where a boy\\'s usual destiny was to \"end up in the mines.\" But Homer had his eye on the sky and a love for flying rockets, to the dismay of his mine-foreman father, and the consternation of the townsfolk generally. A misfit for sure, he and three of his equally outcast buddies begin making rockets, which they fly from a patch of barren land eight miles out of town, so as to no longer terrorize the community with their oft-times errant rockets. Unfortunately, most of the town and especially Homer\\'s father (Chris Cooper) thinks that they are wasting their time. However, the people become intrigued and soon start coming out in droves to watch the \\'Rocketboys\\' send off their homemade missiles. Only one teacher (Laura Dern) in the high school understands their efforts and lets them know that they could become contenders in the national science fair with college scholarships being the prize. Now the gang must learn to perfect their craft and overcome the many problems facing them as they shoot for the stars. Director Joe Johnston has always been a famous name for his movies such as Jumanji & Jurassic Park 3 & \"October Sky\" surely stands above all of his other films. Without any doubts, \"October Sky\" is his best effort & obviously his best film. It\\'s not only a true story filmed extremely well, but even as a movie, it has every single thing, which is required for a top level cinema. And along with Johnston\\'s extra-ordinary direction, are some exceptional performances. Jake Gyllenhaal was around 19, when this movie was released & he gives a beautiful & natural performance. He is a perfect actor. Chris Cooper as his father, also gives a very fine performance. The same goes for Laura Dern & also she looks beautiful. Even the rest of the performances are extremely well. The background score was fine. Highly inspiring movie, which lifts up your spirit sky high. One of those movies which definitely inspires you for all of your life. An amazing inspiring movie along with loads of entertainment. Not to be missed.'\n",
            " b'You\\'ve gotta hand it to Steven Seagal: whatever his other faults may be, he does have good taste in women. If you pick a Seagal movie, chances are there will be one or more very beautiful women in it. And usually, they do not function as mere eye candy; they get involved in the action and fight, shoot guns, kill with knives, etc. \"Flight of Fury\" offers the duo of Ciera Payton (who has a very sexy face, with luscious lips to match Angelina Jolie\\'s) and Katie Jones, and finds time to get them involved in both a catfight AND a little lesbian fondling! And if it seems like I\\'m spending a little too much time talking about them, it\\'s because the rest of the movie, although passable, is so unexciting that it\\'s hard to find much else to talk about. Ironically, the weakest aspect is probably Seagal himself, who looks as if he can\\'t even be bothered to try to pretend to care. This being a military-type actioner, there is very little fighting in it, and he doesn\\'t fit into his role (a stealth fighter pilot, \"the best in the world\", of course) very well, which may explain his almost offensive sleepwalking. (*1/2)']\n",
            "\n",
            "labels:  [1 1 0]\n"
          ]
        }
      ]
    },
    {
      "cell_type": "markdown",
      "source": [
        "### **Buat Teks Encoder**\n",
        "\n",
        "Teks mentah yang dimuat oleh tfds perlu diproses sebelum dapat digunakan dalam model. Cara termudah memproses teks untuk pelatihan adalah menggunakan lapisan TextVectorization. Lapisan ini memiliki banyak kemampuan, namun pada tutorial ini menggunakan perilaku default. Buat lapisan tersebut, dan teruskan teks kumpulan data ke metode .adapt lapisan:"
      ],
      "metadata": {
        "id": "HUBFARmNQUbL"
      }
    },
    {
      "cell_type": "code",
      "source": [
        "VOCAB_SIZE = 1000\n",
        "encoder = tf.keras.layers.TextVectorization(\n",
        "    max_tokens=VOCAB_SIZE)\n",
        "encoder.adapt(train_dataset.map(lambda text, label: text))"
      ],
      "metadata": {
        "id": "SyZQY3SmQlRA"
      },
      "execution_count": null,
      "outputs": []
    },
    {
      "cell_type": "markdown",
      "source": [
        "Metode .adapt mengatur kosakata lapisan. 20 token pertama dapat dilihat dengan kode berikut. Setelah padding dan token yang tidak diketahui, mereka diurutkan berdasarkan frekuensi"
      ],
      "metadata": {
        "id": "sRmIatVHQogu"
      }
    },
    {
      "cell_type": "code",
      "source": [
        "vocab = np.array(encoder.get_vocabulary())\n",
        "vocab[:20]"
      ],
      "metadata": {
        "colab": {
          "base_uri": "https://localhost:8080/"
        },
        "id": "moZmebO-QtIX",
        "outputId": "24ec682d-7503-4cec-85f0-3d9bc6822538"
      },
      "execution_count": null,
      "outputs": [
        {
          "output_type": "execute_result",
          "data": {
            "text/plain": [
              "array(['', '[UNK]', 'the', 'and', 'a', 'of', 'to', 'is', 'in', 'it', 'i',\n",
              "       'this', 'that', 'br', 'was', 'as', 'for', 'with', 'movie', 'but'],\n",
              "      dtype='<U14')"
            ]
          },
          "metadata": {},
          "execution_count": 10
        }
      ]
    },
    {
      "cell_type": "markdown",
      "source": [
        "Setelah kosakata diatur, lapisan dapat mengkodekan teks ke dalam indeks. Tensor indeks diberi bantalan 0 ke urutan terpanjang dalam batch (kecuali jika Anda menetapkan output_sequence_length tetap)"
      ],
      "metadata": {
        "id": "tRrm5R9ARIKy"
      }
    },
    {
      "cell_type": "code",
      "source": [
        "encoded_example = encoder(example)[:3].numpy()\n",
        "encoded_example"
      ],
      "metadata": {
        "colab": {
          "base_uri": "https://localhost:8080/"
        },
        "id": "Pt6rEg2xRLZR",
        "outputId": "2e0e67e3-35f0-4176-e307-3f9599cf339f"
      },
      "execution_count": null,
      "outputs": [
        {
          "output_type": "execute_result",
          "data": {
            "text/plain": [
              "array([[ 45,  23, 543, ...,   1, 100,  73],\n",
              "       [448,  21, 185, ...,   0,   0,   0],\n",
              "       [825,   1, 545, ...,   0,   0,   0]])"
            ]
          },
          "metadata": {},
          "execution_count": 12
        }
      ]
    },
    {
      "cell_type": "markdown",
      "source": [
        "Dengan pengaturan default, prosesnya tidak dapat dibalik sepenuhnya. Ada dua alasan utama untuk itu:\n",
        "\n",
        "* Nilai default untuk argumen standarisasi preprocessing.TextVectorization adalah \"lower_and_strip_punctuation\".\n",
        "* Ukuran kosa kata yang terbatas dan kurangnya fallback berbasis karakter menghasilkan beberapa token yang tidak diketahui."
      ],
      "metadata": {
        "id": "hNTVXGEORglu"
      }
    },
    {
      "cell_type": "code",
      "source": [
        "for n in range(3):\n",
        "  print(\"Original: \", example[n].numpy())\n",
        "  print(\"Round-trip: \", \" \".join(vocab[encoded_example[n]]))\n",
        "  print()"
      ],
      "metadata": {
        "colab": {
          "base_uri": "https://localhost:8080/"
        },
        "id": "2WefyjnjRmcm",
        "outputId": "9520d007-d6b4-44ae-ed3e-1e90d296b32c"
      },
      "execution_count": null,
      "outputs": [
        {
          "output_type": "stream",
          "name": "stdout",
          "text": [
            "Original:  b\"If you cannot enjoy a chick flick, stop right now. If, however, you enjoy films that illustrate complex characters and provide extraordinary acting, read on.<br /><br />Ann Grant Lord is dying. Her two daughters arrive to be at her bedside. Ann begins talking about people from her past of whom the daughters are unaware, and they question as to whether these lost acquaintances are real or imagined. They come to realize that these people from their mother's past are, indeed, real.<br /><br />The story shifts, basically, between 1953 and circa 2000 with a few glimpses at Ann's life between those years. It was in 1953 that Ann met the love of her life and experienced her life's greatest tragedy.<br /><br />One of Ann's two best friends from college, Lila, is being married. Ann's other best friend is Lila's brother, Buddy. Lila and Buddy are the children of a rich Newport family, whereas Ann is a cabaret singer living in Greenwich Village who wants to be a free spirit but is still bound by many of those 1950's conventions.<br /><br />Soon after Ann arrives to be maid of honor at Lila's wedding, she meets the person who will become the pivotal character in the lives of the three - Harris. He is the adult son of a former servant of the family who grew up with Lila and Buddy and has gone on to become a physician in a small New England town. Ann immediately becomes enamored of Harris which adds a complication to the fact that Lila has always been in love with Harris and continues to be. Buddy, also, is in love with Harris, but being 1953, he has redirected that homosexual desire for Harris to his good friend, Ann for he cannot admit to himself that he has a sexual craving for another man. Buddy exhibits his inner frustration outwardly by being the alcoholic, wise-cracking bad boy of the family - much to the chagrin of his very proper and uptight parents.<br /><br />Needless to say, all of these expressed and repressed emotions lead to tragedy - after all this is a chick flick.<br /><br />In the present time, Ann's daughters have become distant from their mother and are suffering their own life realizations and doubts. Constance is working to emotional exhaustion trying to keep up her roll as perfect mother and wife. Nina, having always felt inferior, cannot maintain a relationship.<br /><br />Stir all of these relationships into a span of fifty years, and you get an intriguing look at society, its values, and its effects upon the personalities and actions of the complex people involved.<br /><br />All of the acting in Evening is excellent, but there are some extraordinary performances and scenes - along with two unique family relationships - that make this film so very, very special.<br /><br />Claire Danes plays the 1950's Ann, and she does it in a style that clearly shows an intelligent woman of those times who is conflicted by what she is supposed to do as opposed to what she wants to do. Her performance is not easily forgettable.<br /><br />Vanessa Redgrave plays the dying Ann whose mind shifts from the present, to the past, to flights of fantasy, and of course, Redgrave pulls it all off with sterling style.<br /><br />Natasha Richardson - Redgrave's real daughter - plays Ann's daughter, Constance, in the film. The scenes between this real life mother and daughter playing fictional mother and daughter are an insightful treat to watch.<br /><br />Toni Collette plays Ann's other daughter, Nina. Nina spends a good deal of her time being depressed and feeling sorry for herself while shutting out a good man who loves her as well as her mother and sister. Collette is perfect for a part such as this, but I have never seen her give a bad or unbelievable performance no matter what part she plays.<br /><br />Mamie Gummer plays 1950's Lila and shows us a woman even more conflicted of her expected role in life than her good friend, Ann. She is very good.<br /><br />Meryl Streep - Gummer's mother - plays present day Lila. What is there to say about Meryl Streep other than she always gives an insightful and rewarding performance.<br /><br />Director Lajos Koltai states in the DVD extras that he sought out Glenn Close to play the relatively small part of Lila's mother because he felt she was the only actress he could think of to play one scene in the film. He certainly was right, and Close's performance in that one scene etches it in your mind. All the other scenes in which Close is Lila's very proper mother, and you get another performance to treasure.<br /><br />There are three other scenes in the film, combined with the one featuring Close described above, that make the whole movie worth watching. On Lila's wedding day, Ann comes into her room and crawls into to bed with her friend to discuss Lila's misforgivings about her upcoming wedding to a man she clearly does not love. This scene is repeated fifty years later when Lila comes and crawls into bed with her dying friend Ann to talk about the lives they have lived. In this latter scene, Streep and Redgrave are enthralling.<br /><br />The other memorable scene - at least to me - is when Buddy declares his love for Ann. Hugh Dancy as Buddy gives us a heartbreaking performance of a young man torn apart by his conflicting sexual feelings. His performance is superior.<br /><br />Chick flick? Yes. A very special film with unbelievable acting, directing, and scenery? Definitely. I cannot recommend Evening too much.\"\n",
            "Round-trip:  if you cannot enjoy a [UNK] flick stop right now if however you enjoy films that [UNK] [UNK] characters and [UNK] [UNK] acting read [UNK] br [UNK] [UNK] [UNK] is [UNK] her two [UNK] [UNK] to be at her [UNK] [UNK] begins talking about people from her past of whom the [UNK] are [UNK] and they question as to whether these lost [UNK] are real or [UNK] they come to realize that these people from their [UNK] past are indeed [UNK] br the story [UNK] basically between [UNK] and [UNK] [UNK] with a few [UNK] at [UNK] life between those years it was in [UNK] that [UNK] [UNK] the love of her life and [UNK] her [UNK] greatest [UNK] br one of [UNK] two best friends from [UNK] [UNK] is being [UNK] [UNK] other best friend is [UNK] brother [UNK] [UNK] and [UNK] are the children of a [UNK] [UNK] family [UNK] [UNK] is a [UNK] [UNK] living in [UNK] [UNK] who wants to be a free [UNK] but is still [UNK] by many of those [UNK] [UNK] br soon after [UNK] [UNK] to be [UNK] of [UNK] at [UNK] [UNK] she meets the person who will become the [UNK] character in the lives of the three [UNK] he is the [UNK] son of a [UNK] [UNK] of the family who [UNK] up with [UNK] and [UNK] and has gone on to become a [UNK] in a small new [UNK] town [UNK] [UNK] becomes [UNK] of [UNK] which [UNK] a [UNK] to the fact that [UNK] has always been in love with [UNK] and [UNK] to be [UNK] also is in love with [UNK] but being [UNK] he has [UNK] that [UNK] [UNK] for [UNK] to his good friend [UNK] for he cannot admit to himself that he has a sexual [UNK] for another man [UNK] [UNK] his [UNK] [UNK] [UNK] by being the [UNK] [UNK] bad boy of the family much to the [UNK] of his very [UNK] and [UNK] [UNK] br [UNK] to say all of these [UNK] and [UNK] [UNK] lead to [UNK] after all this is a [UNK] [UNK] br in the present time [UNK] [UNK] have become [UNK] from their mother and are [UNK] their own life [UNK] and [UNK] [UNK] is working to emotional [UNK] trying to keep up her [UNK] as perfect mother and wife [UNK] having always felt [UNK] cannot [UNK] a [UNK] br [UNK] all of these [UNK] into a [UNK] of [UNK] years and you get an [UNK] look at society its [UNK] and its effects upon the [UNK] and [UNK] of the [UNK] people [UNK] br all of the acting in [UNK] is excellent but there are some [UNK] performances and scenes along with two unique family [UNK] that make this film so very very [UNK] br [UNK] [UNK] plays the [UNK] [UNK] and she does it in a style that clearly shows an [UNK] woman of those times who is [UNK] by what she is supposed to do as [UNK] to what she wants to do her performance is not easily [UNK] br [UNK] [UNK] plays the [UNK] [UNK] whose mind [UNK] from the present to the past to [UNK] of fantasy and of course [UNK] [UNK] it all off with [UNK] [UNK] br [UNK] [UNK] [UNK] real daughter plays [UNK] daughter [UNK] in the film the scenes between this real life mother and daughter playing [UNK] mother and daughter are an [UNK] [UNK] to [UNK] br [UNK] [UNK] plays [UNK] other daughter [UNK] [UNK] [UNK] a good deal of her time being [UNK] and feeling sorry for herself while [UNK] out a good man who [UNK] her as well as her mother and sister [UNK] is perfect for a part such as this but i have never seen her give a bad or [UNK] performance no matter what part she [UNK] br [UNK] [UNK] plays [UNK] [UNK] and shows us a woman even more [UNK] of her expected role in life than her good friend [UNK] she is very [UNK] br [UNK] [UNK] [UNK] mother plays present day [UNK] what is there to say about [UNK] [UNK] other than she always gives an [UNK] and [UNK] [UNK] br director [UNK] [UNK] [UNK] in the dvd [UNK] that he [UNK] out [UNK] close to play the [UNK] small part of [UNK] mother because he felt she was the only actress he could think of to play one scene in the film he certainly was right and [UNK] performance in that one scene [UNK] it in your mind all the other scenes in which close is [UNK] very [UNK] mother and you get another performance to [UNK] br there are three other scenes in the film [UNK] with the one [UNK] close [UNK] above that make the whole movie worth watching on [UNK] [UNK] day [UNK] comes into her room and [UNK] into to [UNK] with her friend to [UNK] [UNK] [UNK] about her [UNK] [UNK] to a man she clearly does not love this scene is [UNK] [UNK] years later when [UNK] comes and [UNK] into [UNK] with her [UNK] friend [UNK] to talk about the lives they have [UNK] in this [UNK] scene [UNK] and [UNK] are [UNK] br the other memorable scene at least to me is when [UNK] [UNK] his love for [UNK] [UNK] [UNK] as [UNK] gives us a [UNK] performance of a young man [UNK] apart by his [UNK] sexual [UNK] his performance is [UNK] br [UNK] flick yes a very special film with [UNK] acting directing and [UNK] definitely i cannot recommend [UNK] too much\n",
            "\n",
            "Original:  b'Based on fact, this is the story of a teenager named Homer Hickam (Jake Gyllenhaal), growing up in a coal town in West Virginia where a boy\\'s usual destiny was to \"end up in the mines.\" But Homer had his eye on the sky and a love for flying rockets, to the dismay of his mine-foreman father, and the consternation of the townsfolk generally. A misfit for sure, he and three of his equally outcast buddies begin making rockets, which they fly from a patch of barren land eight miles out of town, so as to no longer terrorize the community with their oft-times errant rockets. Unfortunately, most of the town and especially Homer\\'s father (Chris Cooper) thinks that they are wasting their time. However, the people become intrigued and soon start coming out in droves to watch the \\'Rocketboys\\' send off their homemade missiles. Only one teacher (Laura Dern) in the high school understands their efforts and lets them know that they could become contenders in the national science fair with college scholarships being the prize. Now the gang must learn to perfect their craft and overcome the many problems facing them as they shoot for the stars. Director Joe Johnston has always been a famous name for his movies such as Jumanji & Jurassic Park 3 & \"October Sky\" surely stands above all of his other films. Without any doubts, \"October Sky\" is his best effort & obviously his best film. It\\'s not only a true story filmed extremely well, but even as a movie, it has every single thing, which is required for a top level cinema. And along with Johnston\\'s extra-ordinary direction, are some exceptional performances. Jake Gyllenhaal was around 19, when this movie was released & he gives a beautiful & natural performance. He is a perfect actor. Chris Cooper as his father, also gives a very fine performance. The same goes for Laura Dern & also she looks beautiful. Even the rest of the performances are extremely well. The background score was fine. Highly inspiring movie, which lifts up your spirit sky high. One of those movies which definitely inspires you for all of your life. An amazing inspiring movie along with loads of entertainment. Not to be missed.'\n",
            "Round-trip:  based on fact this is the story of a [UNK] named [UNK] [UNK] [UNK] [UNK] [UNK] up in a [UNK] town in [UNK] [UNK] where a boys usual [UNK] was to end up in the [UNK] but [UNK] had his eye on the [UNK] and a love for [UNK] [UNK] to the [UNK] of his [UNK] father and the [UNK] of the [UNK] [UNK] a [UNK] for sure he and three of his [UNK] [UNK] [UNK] begin making [UNK] which they [UNK] from a [UNK] of [UNK] [UNK] [UNK] [UNK] out of town so as to no [UNK] [UNK] the [UNK] with their [UNK] [UNK] [UNK] unfortunately most of the town and especially [UNK] father [UNK] [UNK] [UNK] that they are [UNK] their time however the people become [UNK] and soon start coming out in [UNK] to watch the [UNK] [UNK] off their [UNK] [UNK] only one [UNK] [UNK] [UNK] in the high school [UNK] their [UNK] and lets them know that they could become [UNK] in the [UNK] [UNK] [UNK] with [UNK] [UNK] being the [UNK] now the [UNK] must learn to perfect their [UNK] and [UNK] the many problems [UNK] them as they [UNK] for the stars director joe [UNK] has always been a famous name for his movies such as [UNK] [UNK] [UNK] 3 [UNK] [UNK] [UNK] [UNK] above all of his other films without any [UNK] [UNK] [UNK] is his best effort obviously his best film its not only a true story filmed extremely well but even as a movie it has every single thing which is [UNK] for a top level cinema and along with [UNK] [UNK] direction are some [UNK] performances [UNK] [UNK] was around [UNK] when this movie was released he gives a beautiful [UNK] performance he is a perfect actor [UNK] [UNK] as his father also gives a very fine performance the same goes for [UNK] [UNK] also she looks beautiful even the rest of the performances are extremely well the background score was fine highly [UNK] movie which [UNK] up your [UNK] [UNK] high one of those movies which definitely [UNK] you for all of your life an amazing [UNK] movie along with [UNK] of entertainment not to be [UNK]                                                                                                                                                                                                                                                                                                                                                                                                                                                                                                                                                                                    \n",
            "\n",
            "Original:  b'You\\'ve gotta hand it to Steven Seagal: whatever his other faults may be, he does have good taste in women. If you pick a Seagal movie, chances are there will be one or more very beautiful women in it. And usually, they do not function as mere eye candy; they get involved in the action and fight, shoot guns, kill with knives, etc. \"Flight of Fury\" offers the duo of Ciera Payton (who has a very sexy face, with luscious lips to match Angelina Jolie\\'s) and Katie Jones, and finds time to get them involved in both a catfight AND a little lesbian fondling! And if it seems like I\\'m spending a little too much time talking about them, it\\'s because the rest of the movie, although passable, is so unexciting that it\\'s hard to find much else to talk about. Ironically, the weakest aspect is probably Seagal himself, who looks as if he can\\'t even be bothered to try to pretend to care. This being a military-type actioner, there is very little fighting in it, and he doesn\\'t fit into his role (a stealth fighter pilot, \"the best in the world\", of course) very well, which may explain his almost offensive sleepwalking. (*1/2)'\n",
            "Round-trip:  youve [UNK] hand it to [UNK] [UNK] whatever his other [UNK] may be he does have good [UNK] in women if you [UNK] a [UNK] movie [UNK] are there will be one or more very beautiful women in it and usually they do not [UNK] as [UNK] eye [UNK] they get involved in the action and fight [UNK] [UNK] kill with [UNK] etc [UNK] of [UNK] [UNK] the [UNK] of [UNK] [UNK] who has a very [UNK] face with [UNK] [UNK] to [UNK] [UNK] [UNK] and [UNK] [UNK] and finds time to get them involved in both a [UNK] and a little [UNK] [UNK] and if it seems like im [UNK] a little too much time talking about them its because the rest of the movie although [UNK] is so [UNK] that its hard to find much else to talk about [UNK] the [UNK] [UNK] is probably [UNK] himself who looks as if he cant even be [UNK] to try to [UNK] to care this being a [UNK] [UNK] there is very little fighting in it and he doesnt [UNK] into his role a [UNK] [UNK] [UNK] the best in the world of course very well which may [UNK] his almost [UNK] [UNK] [UNK]                                                                                                                                                                                                                                                                                                                                                                                                                                                                                                                                                                                                                                                                                                                                                         \n",
            "\n"
          ]
        }
      ]
    },
    {
      "cell_type": "markdown",
      "source": [
        "### **Buat Model**\n",
        "\n",
        "![image.png](https://github.com/tensorflow/text/blob/master/docs/tutorials/images/bidirectional.png?raw=1)"
      ],
      "metadata": {
        "id": "VjUESD_BRpbJ"
      }
    },
    {
      "cell_type": "markdown",
      "source": [
        "diagram model dapat dilihat pada gambar diatas\n",
        "\n",
        "1. Model ini dapat dibuat sebagai tf.keras.Sequential.\n",
        "2. Lapisan pertama adalah encoder, yang mengubah teks menjadi urutan indeks token.\n",
        "3. Setelah encoder adalah lapisan penyematan (embedding layer). Lapisan penyematan menyimpan satu vektor per kata. Saat dipanggil, ini mengubah rangkaian indeks kata menjadi rangkaian vektor. Vektor-vektor ini dapat dilatih. Setelah pelatihan (dengan data yang cukup), kata-kata dengan arti yang mirip sering kali memiliki vektor yang serupa. Pencarian indeks ini jauh lebih efisien daripada operasi setara dengan meneruskan vektor yang disandikan one-hot melalui lapisan tf.keras.layers.Dense.\n",
        "4. Jaringan saraf berulang (RNN) memproses masukan urutan dengan melakukan iterasi melalui elemen. RNN meneruskan keluaran dari satu langkah waktu ke masukannya pada langkah waktu berikutnya.\n",
        "Pembungkus tf.keras.layers.Bidirection juga dapat digunakan dengan lapisan RNN. Ini menyebarkan masukan maju dan mundur melalui lapisan RNN dan kemudian menggabungkan keluaran akhir.\n",
        "  * Keuntungan utama RNN dua arah adalah sinyal dari awal masukan tidak perlu diproses sepanjang waktu untuk memengaruhi keluaran.\n",
        "  * Kerugian utama dari RNN dua arah adalah Anda tidak dapat melakukan streaming prediksi secara efisien saat kata-kata ditambahkan di akhir.\n",
        "5. Setelah RNN mengonversi urutan menjadi satu vektor, kedua lapisan tersebut.Dense melakukan beberapa pemrosesan akhir, dan mengonversi representasi vektor ini menjadi logit tunggal sebagai keluaran klasifikasi.\n",
        "\n",
        "Kode nya adalah sebagai berikut :"
      ],
      "metadata": {
        "id": "OHkS1uZcSdBa"
      }
    },
    {
      "cell_type": "code",
      "source": [
        "model = tf.keras.Sequential([\n",
        "    encoder,\n",
        "    tf.keras.layers.Embedding(\n",
        "        input_dim=len(encoder.get_vocabulary()),\n",
        "        output_dim=64,\n",
        "        # Use masking to handle the variable sequence lengths\n",
        "        mask_zero=True),\n",
        "    tf.keras.layers.Bidirectional(tf.keras.layers.LSTM(64)),\n",
        "    tf.keras.layers.Dense(64, activation='relu'),\n",
        "    tf.keras.layers.Dense(1)\n",
        "])"
      ],
      "metadata": {
        "id": "UJH_RDFdS_tr"
      },
      "execution_count": null,
      "outputs": []
    },
    {
      "cell_type": "markdown",
      "source": [
        "Harap dicatat bahwa model sekuensial Keras digunakan di sini karena semua lapisan dalam model hanya memiliki masukan tunggal dan menghasilkan keluaran tunggal. Jika Anda ingin menggunakan lapisan RNN stateful, Anda mungkin ingin membangun model Anda dengan API fungsional Keras atau subkelas model sehingga Anda dapat mengambil dan menggunakan kembali status lapisan RNN. Untuk detailnya bisa dilihat pada [Keras RNN guide](https://www.tensorflow.org/guide/keras/rnn#rnn_state_reuse)\n",
        "\n",
        "Lapisan penyematan menggunakan masking ([uses masking](https://www.tensorflow.org/guide/keras/masking_and_padding)) untuk menangani panjang urutan yang bervariasi. Semua lapisan setelah penyematan dukungan penyematan"
      ],
      "metadata": {
        "id": "92Mv5CFGTGml"
      }
    },
    {
      "cell_type": "code",
      "source": [
        "print([layer.supports_masking for layer in model.layers])"
      ],
      "metadata": {
        "colab": {
          "base_uri": "https://localhost:8080/"
        },
        "id": "83Dz5jOeTZEu",
        "outputId": "680c29ed-5fea-4e05-9cda-a7cd302899e2"
      },
      "execution_count": null,
      "outputs": [
        {
          "output_type": "stream",
          "name": "stdout",
          "text": [
            "[False, True, True, True, True]\n"
          ]
        }
      ]
    },
    {
      "cell_type": "markdown",
      "source": [
        "Untuk memastikan bahwa ini berfungsi seperti yang diharapkan, evaluasi sebuah kalimat dua kali.\n",
        "Pertama, satu kalimat sehingga tidak ada bantalan (padding) untuk disamarkan"
      ],
      "metadata": {
        "id": "5QkqqCD7TiSD"
      }
    },
    {
      "cell_type": "code",
      "source": [
        "# predict on a sample text without padding.\n",
        "\n",
        "sample_text = ('The movie was cool. The animation and the graphics '\n",
        "               'were out of this world. I would recommend this movie.')\n",
        "predictions = model.predict(np.array([sample_text]))\n",
        "print(predictions[0])"
      ],
      "metadata": {
        "colab": {
          "base_uri": "https://localhost:8080/"
        },
        "id": "NlvaFzNLTxrx",
        "outputId": "3e3ba1b9-7593-4c2f-eceb-e6ec9ad3a131"
      },
      "execution_count": null,
      "outputs": [
        {
          "output_type": "stream",
          "name": "stdout",
          "text": [
            "1/1 [==============================] - 3s 3s/step\n",
            "[-0.01241296]\n"
          ]
        }
      ]
    },
    {
      "cell_type": "markdown",
      "source": [
        "Sekarang, evaluasi lagi dalam batch dengan kalimat yang lebih panjang.\n",
        "Hasilnya harus sama"
      ],
      "metadata": {
        "id": "Mw1hr2v2UDsy"
      }
    },
    {
      "cell_type": "code",
      "source": [
        "# predict on a sample text with padding\n",
        "\n",
        "padding = \"the \" * 2000\n",
        "predictions = model.predict(np.array([sample_text, padding]))\n",
        "print(predictions[0])"
      ],
      "metadata": {
        "colab": {
          "base_uri": "https://localhost:8080/"
        },
        "id": "eDu7IZmBT_kY",
        "outputId": "ce747ba7-c10b-4ff9-8d96-b56b00c934cc"
      },
      "execution_count": null,
      "outputs": [
        {
          "output_type": "stream",
          "name": "stdout",
          "text": [
            "1/1 [==============================] - 0s 343ms/step\n",
            "[-0.01241296]\n"
          ]
        }
      ]
    },
    {
      "cell_type": "markdown",
      "source": [
        "compile model Keras untuk mengonfigurasi proses pelatihan"
      ],
      "metadata": {
        "id": "noXU2YWpUMX2"
      }
    },
    {
      "cell_type": "code",
      "source": [
        "model.compile(loss=tf.keras.losses.BinaryCrossentropy(from_logits=True),\n",
        "              optimizer=tf.keras.optimizers.Adam(1e-4),\n",
        "              metrics=['accuracy'])"
      ],
      "metadata": {
        "id": "JqOoOOkYUKNe"
      },
      "execution_count": null,
      "outputs": []
    },
    {
      "cell_type": "markdown",
      "source": [
        "### **Train Model**"
      ],
      "metadata": {
        "id": "yM4nyd1XUO3P"
      }
    },
    {
      "cell_type": "code",
      "source": [
        "history = model.fit(train_dataset, epochs=10,\n",
        "                    validation_data=test_dataset,\n",
        "                    validation_steps=30)"
      ],
      "metadata": {
        "colab": {
          "base_uri": "https://localhost:8080/"
        },
        "id": "tipzOJyRUQ5x",
        "outputId": "e5396342-2141-4720-c89d-5b67f47c22ef"
      },
      "execution_count": null,
      "outputs": [
        {
          "output_type": "stream",
          "name": "stdout",
          "text": [
            "Epoch 1/10\n",
            "391/391 [==============================] - 713s 2s/step - loss: 0.6359 - accuracy: 0.5800 - val_loss: 0.4902 - val_accuracy: 0.7719\n",
            "Epoch 2/10\n",
            "391/391 [==============================] - 645s 2s/step - loss: 0.4392 - accuracy: 0.7886 - val_loss: 0.4132 - val_accuracy: 0.7948\n",
            "Epoch 3/10\n",
            "391/391 [==============================] - 654s 2s/step - loss: 0.3668 - accuracy: 0.8385 - val_loss: 0.3744 - val_accuracy: 0.8469\n",
            "Epoch 4/10\n",
            "391/391 [==============================] - 653s 2s/step - loss: 0.3360 - accuracy: 0.8526 - val_loss: 0.3495 - val_accuracy: 0.8568\n",
            "Epoch 5/10\n",
            "391/391 [==============================] - 642s 2s/step - loss: 0.3198 - accuracy: 0.8603 - val_loss: 0.3343 - val_accuracy: 0.8568\n",
            "Epoch 6/10\n",
            "391/391 [==============================] - 658s 2s/step - loss: 0.3096 - accuracy: 0.8666 - val_loss: 0.3310 - val_accuracy: 0.8443\n",
            "Epoch 7/10\n",
            "391/391 [==============================] - 659s 2s/step - loss: 0.3050 - accuracy: 0.8707 - val_loss: 0.3207 - val_accuracy: 0.8573\n",
            "Epoch 8/10\n",
            "391/391 [==============================] - 663s 2s/step - loss: 0.3028 - accuracy: 0.8706 - val_loss: 0.3211 - val_accuracy: 0.8557\n",
            "Epoch 9/10\n",
            "391/391 [==============================] - 638s 2s/step - loss: 0.2989 - accuracy: 0.8725 - val_loss: 0.3196 - val_accuracy: 0.8557\n",
            "Epoch 10/10\n",
            "391/391 [==============================] - 640s 2s/step - loss: 0.2971 - accuracy: 0.8743 - val_loss: 0.3199 - val_accuracy: 0.8604\n"
          ]
        }
      ]
    },
    {
      "cell_type": "code",
      "source": [
        "test_loss, test_acc = model.evaluate(test_dataset)\n",
        "\n",
        "print('Test Loss:', test_loss)\n",
        "print('Test Accuracy:', test_acc)"
      ],
      "metadata": {
        "colab": {
          "base_uri": "https://localhost:8080/"
        },
        "id": "WdsGRB04Uj0K",
        "outputId": "a1fd3c56-503d-4ea0-caba-6c16a34a0228"
      },
      "execution_count": null,
      "outputs": [
        {
          "output_type": "stream",
          "name": "stdout",
          "text": [
            "391/391 [==============================] - 150s 383ms/step - loss: 0.3177 - accuracy: 0.8624\n",
            "Test Loss: 0.31771665811538696\n",
            "Test Accuracy: 0.8623600006103516\n"
          ]
        }
      ]
    },
    {
      "cell_type": "code",
      "source": [
        "plt.figure(figsize=(16, 8))\n",
        "plt.subplot(1, 2, 1)\n",
        "plot_graphs(history, 'accuracy')\n",
        "plt.ylim(None, 1)\n",
        "plt.subplot(1, 2, 2)\n",
        "plot_graphs(history, 'loss')\n",
        "plt.ylim(0, None)"
      ],
      "metadata": {
        "id": "DdBiM9jOUmBx",
        "colab": {
          "base_uri": "https://localhost:8080/",
          "height": 718
        },
        "outputId": "661c54c9-b484-41d3-fc60-a32f6459739b"
      },
      "execution_count": null,
      "outputs": [
        {
          "output_type": "execute_result",
          "data": {
            "text/plain": [
              "(0.0, 0.6528735220432281)"
            ]
          },
          "metadata": {},
          "execution_count": 25
        },
        {
          "output_type": "display_data",
          "data": {
            "text/plain": [
              "<Figure size 1600x800 with 2 Axes>"
            ],
            "image/png": "[encoded data removed]"
          },
          "metadata": {}
        }
      ]
    },
    {
      "cell_type": "markdown",
      "source": [
        "Jalankan prediksi pada kalimat baru.\n",
        "\n",
        "Jika prediksi >= 0,0 berarti positif, jika tidak maka negatif."
      ],
      "metadata": {
        "id": "odC0gTUCUpAA"
      }
    },
    {
      "cell_type": "code",
      "source": [
        "sample_text = ('The movie was cool. The animation and the graphics '\n",
        "               'were out of this world. I would recommend this movie.')\n",
        "predictions = model.predict(np.array([sample_text]))"
      ],
      "metadata": {
        "colab": {
          "base_uri": "https://localhost:8080/"
        },
        "id": "IohwHX-2UtE3",
        "outputId": "0b25c11f-e273-4006-fe18-155d72c655c4"
      },
      "execution_count": null,
      "outputs": [
        {
          "output_type": "stream",
          "name": "stdout",
          "text": [
            "1/1 [==============================] - 0s 140ms/step\n"
          ]
        }
      ]
    },
    {
      "cell_type": "markdown",
      "source": [
        "### **Stack two or more LSTM layers**\n",
        "\n",
        "Lapisan berulang Keras memiliki dua mode yang tersedia yang dikontrol oleh argumen konstruktor return_sequences :\n",
        "  * Jika False, ia hanya mengembalikan keluaran terakhir untuk setiap urutan masukan (bentuk tensor 2D (batch_size, output_features)). Ini adalah default yang digunakan pada model sebelumnya.\n",
        "  * Jika True, Sequence lengkap output berturut-turut untuk setiap langkah waktu dikembalikan (bentuk tensor 3D (ukuran_batch, langkah waktu, fitur_output)).\n",
        "\n",
        "Berikut adalah alur informasi dengan return_sequences=True:\n",
        "\n",
        "![image.png](https://www.tensorflow.org/static/text/tutorials/images/layered_bidirectional.png)"
      ],
      "metadata": {
        "id": "dA32dDbJVCmv"
      }
    },
    {
      "cell_type": "markdown",
      "source": [
        "Hal yang menarik dari penggunaan RNN dengan return_sequences=True adalah outputnya masih memiliki 3 axis, sama seperti inputnya, sehingga bisa diteruskan ke layer RNN lain, seperti ini"
      ],
      "metadata": {
        "id": "baoe7ADTuu3N"
      }
    },
    {
      "cell_type": "code",
      "source": [
        "model = tf.keras.Sequential([\n",
        "    encoder,\n",
        "    tf.keras.layers.Embedding(len(encoder.get_vocabulary()), 64, mask_zero=True),\n",
        "    tf.keras.layers.Bidirectional(tf.keras.layers.LSTM(64, return_sequences=True)),\n",
        "    tf.keras.layers.Bidirectional(tf.keras.layers.LSTM(32)),\n",
        "    tf.keras.layers.Dense(64, activation='relu'),\n",
        "    tf.keras.layers.Dropout(0.5),\n",
        "    tf.keras.layers.Dense(1)\n",
        "])"
      ],
      "metadata": {
        "id": "9IOTvb7Cuxd5"
      },
      "execution_count": null,
      "outputs": []
    },
    {
      "cell_type": "code",
      "source": [
        "model.compile(loss=tf.keras.losses.BinaryCrossentropy(from_logits=True),\n",
        "              optimizer=tf.keras.optimizers.Adam(1e-4),\n",
        "              metrics=['accuracy'])"
      ],
      "metadata": {
        "id": "a4xDAUlHvAIq"
      },
      "execution_count": null,
      "outputs": []
    },
    {
      "cell_type": "code",
      "source": [
        "\n",
        "history = model.fit(train_dataset, epochs=10,\n",
        "                    validation_data=test_dataset,\n",
        "                    validation_steps=30)"
      ],
      "metadata": {
        "colab": {
          "base_uri": "https://localhost:8080/"
        },
        "id": "BOemWDqRwAIs",
        "outputId": "67a67cfd-f8f7-4567-9dab-9193395961a8"
      },
      "execution_count": null,
      "outputs": [
        {
          "output_type": "stream",
          "name": "stdout",
          "text": [
            "Epoch 1/10\n",
            "391/391 [==============================] - 1350s 3s/step - loss: 0.6477 - accuracy: 0.5665 - val_loss: 0.4495 - val_accuracy: 0.7792\n",
            "Epoch 2/10\n",
            "391/391 [==============================] - 1252s 3s/step - loss: 0.3863 - accuracy: 0.8322 - val_loss: 0.3496 - val_accuracy: 0.8531\n",
            "Epoch 3/10\n",
            "391/391 [==============================] - 1282s 3s/step - loss: 0.3359 - accuracy: 0.8572 - val_loss: 0.3357 - val_accuracy: 0.8375\n",
            "Epoch 4/10\n",
            "391/391 [==============================] - 1270s 3s/step - loss: 0.3198 - accuracy: 0.8634 - val_loss: 0.3342 - val_accuracy: 0.8510\n",
            "Epoch 5/10\n",
            "391/391 [==============================] - 1260s 3s/step - loss: 0.3101 - accuracy: 0.8696 - val_loss: 0.3299 - val_accuracy: 0.8609\n",
            "Epoch 6/10\n",
            "391/391 [==============================] - 1247s 3s/step - loss: 0.3019 - accuracy: 0.8719 - val_loss: 0.3140 - val_accuracy: 0.8594\n",
            "Epoch 7/10\n",
            "391/391 [==============================] - 1273s 3s/step - loss: 0.3003 - accuracy: 0.8716 - val_loss: 0.3135 - val_accuracy: 0.8625\n",
            "Epoch 8/10\n",
            "391/391 [==============================] - 1222s 3s/step - loss: 0.2963 - accuracy: 0.8724 - val_loss: 0.3161 - val_accuracy: 0.8505\n",
            "Epoch 9/10\n",
            "391/391 [==============================] - 1232s 3s/step - loss: 0.2930 - accuracy: 0.8739 - val_loss: 0.3195 - val_accuracy: 0.8667\n",
            "Epoch 10/10\n",
            "391/391 [==============================] - 1237s 3s/step - loss: 0.2914 - accuracy: 0.8755 - val_loss: 0.3149 - val_accuracy: 0.8583\n"
          ]
        }
      ]
    },
    {
      "cell_type": "code",
      "source": [
        "test_loss, test_acc = model.evaluate(test_dataset)\n",
        "\n",
        "print('Test Loss:', test_loss)\n",
        "print('Test Accuracy:', test_acc)"
      ],
      "metadata": {
        "colab": {
          "base_uri": "https://localhost:8080/"
        },
        "id": "SWsbzlDAwBze",
        "outputId": "b58d1998-0fec-4cec-c0f1-0fb614f39891"
      },
      "execution_count": null,
      "outputs": [
        {
          "output_type": "stream",
          "name": "stdout",
          "text": [
            "391/391 [==============================] - 293s 749ms/step - loss: 0.3151 - accuracy: 0.8611\n",
            "Test Loss: 0.3150779604911804\n",
            "Test Accuracy: 0.8611199855804443\n"
          ]
        }
      ]
    },
    {
      "cell_type": "code",
      "source": [
        "# predict on a sample text without padding.\n",
        "sample_text = ('The movie was not good. The animation and the graphics '\n",
        "               'were terrible. I would not recommend this movie.')\n",
        "predictions = model.predict(np.array([sample_text]))\n",
        "print(predictions)"
      ],
      "metadata": {
        "colab": {
          "base_uri": "https://localhost:8080/"
        },
        "id": "y-iM5OgmwDmm",
        "outputId": "f9ac25d9-f162-485f-e2c3-e1e8024d457b"
      },
      "execution_count": null,
      "outputs": [
        {
          "output_type": "stream",
          "name": "stdout",
          "text": [
            "1/1 [==============================] - 17s 17s/step\n",
            "[[-1.724744]]\n"
          ]
        }
      ]
    },
    {
      "cell_type": "code",
      "source": [
        "plt.figure(figsize=(16, 6))\n",
        "plt.subplot(1, 2, 1)\n",
        "plot_graphs(history, 'accuracy')\n",
        "plt.subplot(1, 2, 2)\n",
        "plot_graphs(history, 'loss')"
      ],
      "metadata": {
        "colab": {
          "base_uri": "https://localhost:8080/",
          "height": 542
        },
        "id": "EiUU4WS1wFrh",
        "outputId": "f974b643-6f26-4eaa-db6a-de47d03387ff"
      },
      "execution_count": null,
      "outputs": [
        {
          "output_type": "display_data",
          "data": {
            "text/plain": [
              "<Figure size 1600x600 with 2 Axes>"
            ],
            "image/png": "[encoded data removed]"
          },
          "metadata": {}
        }
      ]
    },
    {
      "cell_type": "markdown",
      "source": [
        "## **Praktikum 2 - Generator Teks dengan RNN**\n",
        "\n",
        "Praktikum ini mendemonstrasikan cara melakukan genearsi text menggunakan RNN. Dataset yang digunkan adalah dataset Shakespeare's writing from Andrej Karpathy's . Jika diberikan urutan karakter dari data ini (\"Shakespear\"), latih model untuk memprediksi karakter berikutnya dalam urutan (\"e\"). Urutan teks yang lebih panjang dapat dihasilkan dengan memanggil model berulang kali.\n",
        "Note: Enable GPU acceleration to execute this notebook faster. In Colab: Runtime > Change runtime type > Hardware accelerator > GPU.\n",
        "Tutorial ini menggunakan tf.keras dan eager execution. Berikut adalah contoh output ketika model dalam tutorial ini dilatih selama 30 epoch, dan dimulai dengan prompt \"Q\":"
      ],
      "metadata": {
        "id": "u0VdOhSTNU6l"
      }
    },
    {
      "cell_type": "markdown",
      "source": [
        "### **Setup**"
      ],
      "metadata": {
        "id": "wInbLQtERfRi"
      }
    },
    {
      "cell_type": "markdown",
      "source": [
        "#### Import TensorFlow"
      ],
      "metadata": {
        "id": "hvn-ngjdRjTx"
      }
    },
    {
      "cell_type": "code",
      "source": [
        "import tensorflow as tf\n",
        "import numpy as np\n",
        "import os\n",
        "import time"
      ],
      "metadata": {
        "id": "oYDlbtoqRoeA"
      },
      "execution_count": 1,
      "outputs": []
    },
    {
      "cell_type": "markdown",
      "source": [
        "#### **Download Dataset Shakespeare**\n",
        "\n",
        "Sesuaikan dengan lokasi data yang Anda punya."
      ],
      "metadata": {
        "id": "_oBGbcJbRtgM"
      }
    },
    {
      "cell_type": "code",
      "source": [
        "path_to_file = tf.keras.utils.get_file('shakespeare.txt', 'https://storage.googleapis.com/download.tensorflow.org/data/shakespeare.txt')"
      ],
      "metadata": {
        "colab": {
          "base_uri": "https://localhost:8080/"
        },
        "id": "bM2nuyd8R4IG",
        "outputId": "3c219f19-db49-4f91-f3be-b43e0c0f39ae"
      },
      "execution_count": 2,
      "outputs": [
        {
          "output_type": "stream",
          "name": "stdout",
          "text": [
            "Downloading data from https://storage.googleapis.com/download.tensorflow.org/data/shakespeare.txt\n",
            "1115394/1115394 [==============================] - 1s 1us/step\n"
          ]
        }
      ]
    },
    {
      "cell_type": "markdown",
      "source": [
        "#### **Load Data**"
      ],
      "metadata": {
        "id": "0CbJvGD4VyB8"
      }
    },
    {
      "cell_type": "code",
      "source": [
        "# Read, then decode for py2 compat.\n",
        "text = open(path_to_file, 'rb').read().decode(encoding='utf-8')\n",
        "# length of text is the number of characters in it\n",
        "print(f'Length of text: {len(text)} characters')"
      ],
      "metadata": {
        "colab": {
          "base_uri": "https://localhost:8080/"
        },
        "id": "sNWKriLUV1eN",
        "outputId": "281e8acb-d74b-4080-ce7b-638c6fd14145"
      },
      "execution_count": 3,
      "outputs": [
        {
          "output_type": "stream",
          "name": "stdout",
          "text": [
            "Length of text: 1115394 characters\n"
          ]
        }
      ]
    },
    {
      "cell_type": "code",
      "source": [
        "# Take a look at the first 250 characters in text\n",
        "print(text[:250])"
      ],
      "metadata": {
        "colab": {
          "base_uri": "https://localhost:8080/"
        },
        "id": "osUqbUi4V4G-",
        "outputId": "df7ae026-49df-4f7f-ce44-40fb39f3407f"
      },
      "execution_count": 4,
      "outputs": [
        {
          "output_type": "stream",
          "name": "stdout",
          "text": [
            "First Citizen:\n",
            "Before we proceed any further, hear me speak.\n",
            "\n",
            "All:\n",
            "Speak, speak.\n",
            "\n",
            "First Citizen:\n",
            "You are all resolved rather to die than to famish?\n",
            "\n",
            "All:\n",
            "Resolved. resolved.\n",
            "\n",
            "First Citizen:\n",
            "First, you know Caius Marcius is chief enemy to the people.\n",
            "\n"
          ]
        }
      ]
    },
    {
      "cell_type": "code",
      "source": [
        "# The unique characters in the file\n",
        "vocab = sorted(set(text))\n",
        "print(f'{len(vocab)} unique characters')"
      ],
      "metadata": {
        "colab": {
          "base_uri": "https://localhost:8080/"
        },
        "id": "CDt_DT6DV5-l",
        "outputId": "b3048344-e4a8-482f-ab85-7ef414e55784"
      },
      "execution_count": 5,
      "outputs": [
        {
          "output_type": "stream",
          "name": "stdout",
          "text": [
            "65 unique characters\n"
          ]
        }
      ]
    },
    {
      "cell_type": "markdown",
      "source": [
        "### **Olah Teks**"
      ],
      "metadata": {
        "id": "VUNq9NAoV8kI"
      }
    },
    {
      "cell_type": "markdown",
      "source": [
        "#### **Vectorize Teks**\n",
        "\n",
        "Sebelum training, Anda perlu mengonversi string menjadi representasi numerik. `tf.keras.layers.StringLookup` dapat mengubah setiap karakter menjadi ID numerik. Caranya adalah teks akan dipecah menjadi token terlebih dahulu."
      ],
      "metadata": {
        "id": "QiamboHiWJWc"
      }
    },
    {
      "cell_type": "code",
      "source": [
        "example_texts = ['abcdefg', 'xyz']\n",
        "chars = tf.strings.unicode_split(example_texts, input_encoding='UTF-8')\n",
        "chars"
      ],
      "metadata": {
        "colab": {
          "base_uri": "https://localhost:8080/"
        },
        "id": "zt-p9CbhWNL5",
        "outputId": "37c34047-1fbe-4e73-e27a-864bb6b73639"
      },
      "execution_count": 7,
      "outputs": [
        {
          "output_type": "execute_result",
          "data": {
            "text/plain": [
              "<tf.RaggedTensor [[b'a', b'b', b'c', b'd', b'e', b'f', b'g'], [b'x', b'y', b'z']]>"
            ]
          },
          "metadata": {},
          "execution_count": 7
        }
      ]
    },
    {
      "cell_type": "markdown",
      "source": [
        "sekarang buat `tf.keras.layers.StringLookup` layer"
      ],
      "metadata": {
        "id": "PHKuiknSklwg"
      }
    },
    {
      "cell_type": "code",
      "source": [
        "ids_from_chars = tf.keras.layers.StringLookup(vocabulary=list(vocab), mask_token=None)"
      ],
      "metadata": {
        "id": "vYC9OeFMkpff"
      },
      "execution_count": 8,
      "outputs": []
    },
    {
      "cell_type": "markdown",
      "source": [
        "perintah diatas mengconvert token menjadi id"
      ],
      "metadata": {
        "id": "WFrFdUh6lGEX"
      }
    },
    {
      "cell_type": "code",
      "source": [
        "ids = ids_from_chars(chars)\n",
        "ids"
      ],
      "metadata": {
        "colab": {
          "base_uri": "https://localhost:8080/"
        },
        "id": "dZs7P8wwlAzD",
        "outputId": "d514311f-217c-4cd6-bf22-0292406fee4c"
      },
      "execution_count": 9,
      "outputs": [
        {
          "output_type": "execute_result",
          "data": {
            "text/plain": [
              "<tf.RaggedTensor [[40, 41, 42, 43, 44, 45, 46], [63, 64, 65]]>"
            ]
          },
          "metadata": {},
          "execution_count": 9
        }
      ]
    },
    {
      "cell_type": "markdown",
      "source": [
        "Karena tujuan tutorial ini adalah untuk menghasilkan teks, penting juga untuk membalikkan representasi ini. Untuk ini Anda dapat menggunakan kode\n",
        "`tf.keras.layers.StringLookup(..., invert=True)`.\n",
        "\n",
        "Catatan: pada kode ini, daripada meneruskan kosakata asli yang dihasilkan dengan diurutkan(set(teks)) gunakan metode `get_vocabulary()` dari\n",
        "`tf.keras.layers.StringLookup` sehingga token [UNK] disetel dengan cara yang sama."
      ],
      "metadata": {
        "id": "6kyVfiiVlYV2"
      }
    },
    {
      "cell_type": "code",
      "source": [
        "chars_from_ids = tf.keras.layers.StringLookup(\n",
        "    vocabulary=ids_from_chars.get_vocabulary(), invert=True, mask_token=None)"
      ],
      "metadata": {
        "id": "BhESs5nnlyG9"
      },
      "execution_count": 10,
      "outputs": []
    },
    {
      "cell_type": "markdown",
      "source": [
        "Lapisan ini mengconvert kembali karakter dari vektor ID, dan mengembalikannya sebagai karakter `tf.RaggedTensor`"
      ],
      "metadata": {
        "id": "5XF_c2KNtHGh"
      }
    },
    {
      "cell_type": "code",
      "source": [
        "chars = chars_from_ids(ids)\n",
        "chars"
      ],
      "metadata": {
        "colab": {
          "base_uri": "https://localhost:8080/"
        },
        "id": "JOXvp0u-t6Ic",
        "outputId": "cf7adef6-bef7-48da-ffe6-239d867f5277"
      },
      "execution_count": 11,
      "outputs": [
        {
          "output_type": "execute_result",
          "data": {
            "text/plain": [
              "<tf.RaggedTensor [[b'a', b'b', b'c', b'd', b'e', b'f', b'g'], [b'x', b'y', b'z']]>"
            ]
          },
          "metadata": {},
          "execution_count": 11
        }
      ]
    },
    {
      "cell_type": "markdown",
      "source": [
        "Anda dapat menggunakan `tf.strings.reduce_join` untuk menggabungkan kembali karakter menjadi string."
      ],
      "metadata": {
        "id": "StngZtgsuELw"
      }
    },
    {
      "cell_type": "code",
      "source": [
        "tf.strings.reduce_join(chars, axis=-1).numpy()"
      ],
      "metadata": {
        "colab": {
          "base_uri": "https://localhost:8080/"
        },
        "id": "WuNzjH_suDvq",
        "outputId": "b0095ed2-b6f5-456d-a77f-05e01af6f655"
      },
      "execution_count": 12,
      "outputs": [
        {
          "output_type": "execute_result",
          "data": {
            "text/plain": [
              "array([b'abcdefg', b'xyz'], dtype=object)"
            ]
          },
          "metadata": {},
          "execution_count": 12
        }
      ]
    },
    {
      "cell_type": "code",
      "source": [
        "def text_from_ids(ids):\n",
        "    return tf.strings.reduce_join(chars_from_ids(ids), axis=-1)"
      ],
      "metadata": {
        "id": "V0OmeqwDuKPC"
      },
      "execution_count": 13,
      "outputs": []
    },
    {
      "cell_type": "markdown",
      "source": [
        "#### **Prediksi**\n",
        "\n",
        "Diberikan sebuah karakter, atau serangkaian karakter, karakter apa yang paling mungkin berikutnya? Ini adalah tugas yang harus Anda latih agar model dapat melakukannya. Masukan ke model akan berupa urutan karakter, dan Anda melatih model untuk memprediksi keluaran berupa karakter berikut pada setiap langkah waktu. Karena RNN mempertahankan keadaan internal yang bergantung pada elemen yang terlihat sebelumnya, mengingat semua karakter dihitung hingga saat ini, karakter apa selanjutnya?"
      ],
      "metadata": {
        "id": "gCbqLEQQvYVn"
      }
    },
    {
      "cell_type": "markdown",
      "source": [
        "#### **Membuat Trianing Set dan Target**\n",
        "\n",
        "Selanjutnya bagilah teks menjadi contoh sequence. Setiap masukan sequence akan berisi karakter seq_length dari teks. Untuk setiap masukan sequence, target prediksi berisi teks dengan panjang yang sama, hanya digeser satu karakter ke kanan. Jadi, bagi teks menjadi beberapa bagian `seq_length+1`. Misalnya, seq_length adalah 4 dan teks kita adalah \"Hello\". Urutan masukannya adalah \"Hell\", dan urutan targetnya adalah \"ello\". Untuk melakukan ini, pertama-tama gunakan fungsi `tf.data.Dataset.from_tensor_slices` untuk mengonversi vektor teks menjadi aliran indeks karakter."
      ],
      "metadata": {
        "id": "YqjDdKL-viKQ"
      }
    },
    {
      "cell_type": "code",
      "source": [
        "all_ids = ids_from_chars(tf.strings.unicode_split(text, 'UTF-8'))\n",
        "all_ids"
      ],
      "metadata": {
        "colab": {
          "base_uri": "https://localhost:8080/"
        },
        "id": "HqWNOpdmwMF5",
        "outputId": "ab8f17ad-c14f-4ebf-dc19-e8877a6869e6"
      },
      "execution_count": 14,
      "outputs": [
        {
          "output_type": "execute_result",
          "data": {
            "text/plain": [
              "<tf.Tensor: shape=(1115394,), dtype=int64, numpy=array([19, 48, 57, ..., 46,  9,  1])>"
            ]
          },
          "metadata": {},
          "execution_count": 14
        }
      ]
    },
    {
      "cell_type": "code",
      "source": [
        "ids_dataset = tf.data.Dataset.from_tensor_slices(all_ids)"
      ],
      "metadata": {
        "id": "dFz3sSyPwOPM"
      },
      "execution_count": 15,
      "outputs": []
    },
    {
      "cell_type": "code",
      "source": [
        "seq_length = 100"
      ],
      "metadata": {
        "id": "OBlHCwgrwVK_"
      },
      "execution_count": 16,
      "outputs": []
    },
    {
      "cell_type": "markdown",
      "source": [
        "Metode batch memungkinkan Anda dengan mudah mengonversi karakter individual ini menjadi urutan ukuran yang diinginkan."
      ],
      "metadata": {
        "id": "i8PzHA6TwzUZ"
      }
    },
    {
      "cell_type": "code",
      "source": [
        "sequences = ids_dataset.batch(seq_length+1, drop_remainder=True)\n",
        "\n",
        "for seq in sequences.take(1):\n",
        "  print(chars_from_ids(seq))"
      ],
      "metadata": {
        "colab": {
          "base_uri": "https://localhost:8080/"
        },
        "id": "Scpt1RPRCbds",
        "outputId": "6fcdc6a5-f32e-4758-be52-0176514a1246"
      },
      "execution_count": 17,
      "outputs": [
        {
          "output_type": "stream",
          "name": "stdout",
          "text": [
            "tf.Tensor(\n",
            "[b'F' b'i' b'r' b's' b't' b' ' b'C' b'i' b't' b'i' b'z' b'e' b'n' b':'\n",
            " b'\\n' b'B' b'e' b'f' b'o' b'r' b'e' b' ' b'w' b'e' b' ' b'p' b'r' b'o'\n",
            " b'c' b'e' b'e' b'd' b' ' b'a' b'n' b'y' b' ' b'f' b'u' b'r' b't' b'h'\n",
            " b'e' b'r' b',' b' ' b'h' b'e' b'a' b'r' b' ' b'm' b'e' b' ' b's' b'p'\n",
            " b'e' b'a' b'k' b'.' b'\\n' b'\\n' b'A' b'l' b'l' b':' b'\\n' b'S' b'p' b'e'\n",
            " b'a' b'k' b',' b' ' b's' b'p' b'e' b'a' b'k' b'.' b'\\n' b'\\n' b'F' b'i'\n",
            " b'r' b's' b't' b' ' b'C' b'i' b't' b'i' b'z' b'e' b'n' b':' b'\\n' b'Y'\n",
            " b'o' b'u' b' '], shape=(101,), dtype=string)\n"
          ]
        }
      ]
    },
    {
      "cell_type": "markdown",
      "source": [
        "akan lebih mudah untuk melihat apa yang dilakukan jika Anda menggabungkan token kembali menjadi string"
      ],
      "metadata": {
        "id": "Yr7hC2-ACfuo"
      }
    },
    {
      "cell_type": "code",
      "source": [
        "for seq in sequences.take(5):\n",
        "    print(text_from_ids(seq).numpy())"
      ],
      "metadata": {
        "colab": {
          "base_uri": "https://localhost:8080/"
        },
        "id": "0KWR7CyWChyk",
        "outputId": "f2faec51-54c1-4305-ce80-498528c52008"
      },
      "execution_count": 18,
      "outputs": [
        {
          "output_type": "stream",
          "name": "stdout",
          "text": [
            "b'First Citizen:\\nBefore we proceed any further, hear me speak.\\n\\nAll:\\nSpeak, speak.\\n\\nFirst Citizen:\\nYou '\n",
            "b'are all resolved rather to die than to famish?\\n\\nAll:\\nResolved. resolved.\\n\\nFirst Citizen:\\nFirst, you k'\n",
            "b\"now Caius Marcius is chief enemy to the people.\\n\\nAll:\\nWe know't, we know't.\\n\\nFirst Citizen:\\nLet us ki\"\n",
            "b\"ll him, and we'll have corn at our own price.\\nIs't a verdict?\\n\\nAll:\\nNo more talking on't; let it be d\"\n",
            "b'one: away, away!\\n\\nSecond Citizen:\\nOne word, good citizens.\\n\\nFirst Citizen:\\nWe are accounted poor citi'\n"
          ]
        }
      ]
    },
    {
      "cell_type": "markdown",
      "source": [
        "Untuk pelatihan, Anda memerlukan kumpulan data pasangan (input, label). Dimana input dan label merupakan urutan. Pada setiap langkah waktu, inputnya adalah karakter saat ini dan labelnya adalah karakter berikutnya. Berikut adalah fungsi yang mengambil urutan sebagai masukan, menduplikasi, dan menggesernya untuk menyelaraskan masukan dan label untuk setiap langkah waktu"
      ],
      "metadata": {
        "id": "h_cE5sA0CqO8"
      }
    },
    {
      "cell_type": "code",
      "source": [
        "def split_input_target(sequence):\n",
        "    input_text = sequence[:-1]\n",
        "    target_text = sequence[1:]\n",
        "    return input_text, target_text"
      ],
      "metadata": {
        "id": "Z2W8pIrOCsw_"
      },
      "execution_count": 19,
      "outputs": []
    },
    {
      "cell_type": "code",
      "source": [
        "split_input_target(list(\"Tensorflow\"))"
      ],
      "metadata": {
        "colab": {
          "base_uri": "https://localhost:8080/"
        },
        "id": "5aUpvRPTC5cl",
        "outputId": "b4ee54fb-bd0a-4a8a-c8e0-e3d940c1dcba"
      },
      "execution_count": 20,
      "outputs": [
        {
          "output_type": "execute_result",
          "data": {
            "text/plain": [
              "(['T', 'e', 'n', 's', 'o', 'r', 'f', 'l', 'o'],\n",
              " ['e', 'n', 's', 'o', 'r', 'f', 'l', 'o', 'w'])"
            ]
          },
          "metadata": {},
          "execution_count": 20
        }
      ]
    },
    {
      "cell_type": "code",
      "source": [
        "dataset = sequences.map(split_input_target)"
      ],
      "metadata": {
        "id": "WTHt-MzJC7p3"
      },
      "execution_count": 21,
      "outputs": []
    },
    {
      "cell_type": "code",
      "source": [
        "for input_example, target_example in dataset.take(1):\n",
        "    print(\"Input :\", text_from_ids(input_example).numpy())\n",
        "    print(\"Target:\", text_from_ids(target_example).numpy())"
      ],
      "metadata": {
        "colab": {
          "base_uri": "https://localhost:8080/"
        },
        "id": "kib5vKA4DAXN",
        "outputId": "57477e4b-a5bb-4a9a-e481-9167cbd52fd7"
      },
      "execution_count": 22,
      "outputs": [
        {
          "output_type": "stream",
          "name": "stdout",
          "text": [
            "Input : b'First Citizen:\\nBefore we proceed any further, hear me speak.\\n\\nAll:\\nSpeak, speak.\\n\\nFirst Citizen:\\nYou'\n",
            "Target: b'irst Citizen:\\nBefore we proceed any further, hear me speak.\\n\\nAll:\\nSpeak, speak.\\n\\nFirst Citizen:\\nYou '\n"
          ]
        }
      ]
    },
    {
      "cell_type": "markdown",
      "source": [
        "#### **Membuat Batch Training**\n",
        "\n",
        "Anda menggunakan tf.data untuk membagi teks menjadi sequence yang dapat diatur. Namun sebelum memasukkan data ini ke dalam model, Anda perlu mengacak data dan mengemasnya ke dalam batch."
      ],
      "metadata": {
        "id": "DX4CHbheDOra"
      }
    },
    {
      "cell_type": "code",
      "source": [
        "# Batch size\n",
        "BATCH_SIZE = 64\n",
        "\n",
        "# Buffer size to shuffle the dataset\n",
        "# (TF data is designed to work with possibly infinite sequences,\n",
        "# so it doesn't attempt to shuffle the entire sequence in memory. Instead,\n",
        "# it maintains a buffer in which it shuffles elements).\n",
        "BUFFER_SIZE = 10000\n",
        "\n",
        "dataset = (\n",
        "    dataset\n",
        "    .shuffle(BUFFER_SIZE)\n",
        "    .batch(BATCH_SIZE, drop_remainder=True)\n",
        "    .prefetch(tf.data.experimental.AUTOTUNE))\n",
        "\n",
        "dataset"
      ],
      "metadata": {
        "id": "IJgWOo0BDW_D",
        "outputId": "f5966db5-4354-496d-e5c5-398d80ebd429",
        "colab": {
          "base_uri": "https://localhost:8080/"
        }
      },
      "execution_count": 23,
      "outputs": [
        {
          "output_type": "execute_result",
          "data": {
            "text/plain": [
              "<_PrefetchDataset element_spec=(TensorSpec(shape=(64, 100), dtype=tf.int64, name=None), TensorSpec(shape=(64, 100), dtype=tf.int64, name=None))>"
            ]
          },
          "metadata": {},
          "execution_count": 23
        }
      ]
    },
    {
      "cell_type": "markdown",
      "source": [
        "### **Buat Model**\n",
        "\n",
        "Bagian ini mendefinisikan model sebagai subkelas keras.Model (untuk lebih detilnya, lihat [Making new Layers and Models via subclassing](https://www.tensorflow.org/guide/keras/custom_layers_and_models)).\n",
        "\n",
        "Model yang kita bangun memiliki 3 lapisan neural network :\n",
        "\n",
        "  * `tf.keras.layers.Embedding`: Lapisan masukan. Tabel pencarian yang dapat dilatih yang akan memetakan setiap karakter-ID ke vektor dengan dimensi embedding_dim;\n",
        "  * `tf.keras.layers.GRU`: lapisan RNN dengan ukuran unit=rnn_units (Anda juga dapat menggunakan lapisan LSTM di sini.)\n",
        "  * `tf.keras.layers.Dense`: Lapisan keluaran, dengan keluaran vocab_size. Ini menghasilkan satu logit untuk setiap karakter dalam kosakata. Ini adalah log kemungkinan setiap karakter menurut model."
      ],
      "metadata": {
        "id": "bm8N2WjLUypc"
      }
    },
    {
      "cell_type": "code",
      "source": [
        "# Length of the vocabulary in StringLookup Layer\n",
        "vocab_size = len(ids_from_chars.get_vocabulary())\n",
        "\n",
        "# The embedding dimension\n",
        "embedding_dim = 256\n",
        "\n",
        "# Number of RNN units\n",
        "rnn_units = 1024"
      ],
      "metadata": {
        "id": "kB_ldRKgUyWx"
      },
      "execution_count": 24,
      "outputs": []
    },
    {
      "cell_type": "code",
      "source": [
        "class MyModel(tf.keras.Model):\n",
        "  def __init__(self, vocab_size, embedding_dim, rnn_units):\n",
        "    super().__init__(self)\n",
        "    self.embedding = tf.keras.layers.Embedding(vocab_size, embedding_dim)\n",
        "    self.gru = tf.keras.layers.GRU(rnn_units,\n",
        "                                   return_sequences=True,\n",
        "                                   return_state=True)\n",
        "    self.dense = tf.keras.layers.Dense(vocab_size)\n",
        "\n",
        "  def call(self, inputs, states=None, return_state=False, training=False):\n",
        "    x = inputs\n",
        "    x = self.embedding(x, training=training)\n",
        "    if states is None:\n",
        "      states = self.gru.get_initial_state(x)\n",
        "    x, states = self.gru(x, initial_state=states, training=training)\n",
        "    x = self.dense(x, training=training)\n",
        "\n",
        "    if return_state:\n",
        "      return x, states\n",
        "    else:\n",
        "      return x"
      ],
      "metadata": {
        "id": "spFB_3lHVT9-"
      },
      "execution_count": 25,
      "outputs": []
    },
    {
      "cell_type": "code",
      "source": [
        "model = MyModel(\n",
        "    vocab_size=vocab_size,\n",
        "    embedding_dim=embedding_dim,\n",
        "    rnn_units=rnn_units)"
      ],
      "metadata": {
        "id": "xSNt3py_VYEG"
      },
      "execution_count": 26,
      "outputs": []
    },
    {
      "cell_type": "markdown",
      "source": [
        "Untuk setiap karakter, model mencari penyematan, menjalankan GRU satu langkah waktu dengan penyematan sebagai masukan, dan menerapkan dense layer untuk menghasilkan log yang memprediksi kemungkinan log karakter berikutnya:\n",
        "\n",
        "![image.png](https://github.com/tensorflow/text/blob/master/docs/tutorials/images/text_generation_training.png?raw=1)"
      ],
      "metadata": {
        "id": "OuzvED9wVf6r"
      }
    },
    {
      "cell_type": "markdown",
      "source": [
        "Note: Untuk pelatihan Anda bisa menggunakan model keras.Sequential di sini. Untuk menghasilkan teks nanti, Anda harus mengelola status internal RNN. Akan lebih mudah untuk memasukkan opsi input dan output status di awal, daripada mengatur ulang arsitektur model nanti. untuk detailnya bisa dilihat [Keras RNN guide](https://www.tensorflow.org/guide/keras/rnn#rnn_state_reuse)."
      ],
      "metadata": {
        "id": "AyGRQgxcVmND"
      }
    },
    {
      "cell_type": "markdown",
      "source": [
        "### **Uji Model**\n",
        "\n",
        "Coba jalankan model dan cek apakah sidah sesuai dengan output\n",
        "\n",
        "pertama, cek bentuk dari output"
      ],
      "metadata": {
        "id": "zbdQrRR-V_bk"
      }
    },
    {
      "cell_type": "code",
      "source": [
        "for input_example_batch, target_example_batch in dataset.take(1):\n",
        "    example_batch_predictions = model(input_example_batch)\n",
        "    print(example_batch_predictions.shape, \"# (batch_size, sequence_length, vocab_size)\")"
      ],
      "metadata": {
        "colab": {
          "base_uri": "https://localhost:8080/"
        },
        "id": "A62VwwQfWHPI",
        "outputId": "927c0d01-8e86-4252-b14b-7f2565c73d68"
      },
      "execution_count": null,
      "outputs": [
        {
          "output_type": "stream",
          "name": "stdout",
          "text": [
            "(64, 100, 66) # (batch_size, sequence_length, vocab_size)\n"
          ]
        }
      ]
    },
    {
      "cell_type": "markdown",
      "source": [
        "Dalam contoh di atas, panjang urutan masukan adalah 100 tetapi model dapat dijalankan pada masukan dengan panjang berapa pun"
      ],
      "metadata": {
        "id": "RYkgjT2fWKIY"
      }
    },
    {
      "cell_type": "code",
      "source": [
        "model.summary()"
      ],
      "metadata": {
        "colab": {
          "base_uri": "https://localhost:8080/"
        },
        "id": "F003J9rRWP_i",
        "outputId": "41285563-8ff6-44c3-c451-c7aaf0c391d9"
      },
      "execution_count": null,
      "outputs": [
        {
          "output_type": "stream",
          "name": "stdout",
          "text": [
            "Model: \"my_model\"\n",
            "_________________________________________________________________\n",
            " Layer (type)                Output Shape              Param #   \n",
            "=================================================================\n",
            " embedding (Embedding)       multiple                  16896     \n",
            "                                                                 \n",
            " gru (GRU)                   multiple                  3938304   \n",
            "                                                                 \n",
            " dense (Dense)               multiple                  67650     \n",
            "                                                                 \n",
            "=================================================================\n",
            "Total params: 4022850 (15.35 MB)\n",
            "Trainable params: 4022850 (15.35 MB)\n",
            "Non-trainable params: 0 (0.00 Byte)\n",
            "_________________________________________________________________\n"
          ]
        }
      ]
    },
    {
      "cell_type": "markdown",
      "source": [
        "Untuk mendapatkan prediksi aktual dari model, Anda perlu mengambil sampel dari distribusi keluaran, untuk mendapatkan indeks karakter aktual. Distribusi ini ditentukan oleh logit pada kosakata karakter. Catatan: Penting untuk mengambil sampel dari distribusi ini karena mengambil argmax dari distribusi tersebut dapat dengan mudah membuat model terjebak dalam infinote loop. Cobalah untuk contoh pertama di batch"
      ],
      "metadata": {
        "id": "yXfSm8roWVJd"
      }
    },
    {
      "cell_type": "code",
      "source": [
        "sampled_indices = tf.random.categorical(example_batch_predictions[0], num_samples=1)\n",
        "sampled_indices = tf.squeeze(sampled_indices, axis=-1).numpy()"
      ],
      "metadata": {
        "id": "h-8Idkv-WXBH"
      },
      "execution_count": null,
      "outputs": []
    },
    {
      "cell_type": "markdown",
      "source": [
        "Hal ini memberi kita, pada setiap langkah waktu, prediksi indeks karakter berikutnya:"
      ],
      "metadata": {
        "id": "lL__6iRhWgxv"
      }
    },
    {
      "cell_type": "code",
      "source": [
        "sampled_indices"
      ],
      "metadata": {
        "colab": {
          "base_uri": "https://localhost:8080/"
        },
        "id": "xcxsjy0gWhz_",
        "outputId": "070ac0c9-5f96-44cd-b212-b86cd290597d"
      },
      "execution_count": null,
      "outputs": [
        {
          "output_type": "execute_result",
          "data": {
            "text/plain": [
              "array([11, 31, 52, 36,  3, 59, 26, 57,  6, 38, 41, 18, 50, 42,  2, 45, 28,\n",
              "       10, 46, 27, 60, 47, 16, 53, 25, 25,  0, 28, 49, 39, 22, 41, 55, 21,\n",
              "       59,  2, 29, 63, 10,  9, 51, 26,  7, 32, 62, 19, 33, 15, 26, 35,  2,\n",
              "       17, 13, 43, 33, 62, 12, 25, 65, 61, 33, 39,  9, 29, 45, 30, 34, 62,\n",
              "       39, 35,  0, 17, 64, 49, 56, 57,  6, 16, 15, 40,  4, 12,  0, 40, 19,\n",
              "       56, 44, 10, 23, 46,  1, 24, 33, 37, 38, 31, 60, 29, 21, 10])"
            ]
          },
          "metadata": {},
          "execution_count": 30
        }
      ]
    },
    {
      "cell_type": "markdown",
      "source": [
        "Dekode kode berikut untuk melihat teks yang diprediksi oleh model tidak terlatih ini"
      ],
      "metadata": {
        "id": "xScp1MV4Wp1V"
      }
    },
    {
      "cell_type": "code",
      "source": [
        "print(\"Input:\\n\", text_from_ids(input_example_batch[0]).numpy())\n",
        "print()\n",
        "print(\"Next Char Predictions:\\n\", text_from_ids(sampled_indices).numpy())"
      ],
      "metadata": {
        "colab": {
          "base_uri": "https://localhost:8080/"
        },
        "id": "AQ_WJx9jWnMT",
        "outputId": "b349d500-81d9-41d5-ac3b-052750f64a84"
      },
      "execution_count": null,
      "outputs": [
        {
          "output_type": "stream",
          "name": "stdout",
          "text": [
            "Input:\n",
            " b\" so early made.\\nThe earth hath swallow'd all my hopes but she,\\nShe is the hopeful lady of my earth:\\n\"\n",
            "\n",
            "Next Char Predictions:\n",
            " b\":RmW!tMr'YbEkc fO3gNuhCnLL[UNK]OjZIbpHt Px3.lM,SwFTBMV D?dTw;LzvTZ.PfQUwZV[UNK]Dyjqr'CBa$;[UNK]aFqe3Jg\\nKTXYRuPH3\"\n"
          ]
        }
      ]
    },
    {
      "cell_type": "markdown",
      "source": [
        "### **Train Model**\n",
        "\n",
        "Pada titik ini permasalahan dapat dianggap sebagai permasalahan klasifikasi standar. Permasalahan dapat disimpulkan dengan : Berdasarkan status RNN sebelumnya, dan masukan langkah kali ini, prediksi kelas karakter berikutnya."
      ],
      "metadata": {
        "id": "mtI1NFWQWv2H"
      }
    },
    {
      "cell_type": "markdown",
      "source": [
        "##### **Tambahan optimizer dan fungsi loss**\n",
        "\n",
        "loss function `tf.keras.losses.sparse_categorical_crossentropy` standar berfungsi dalam kasus ini karena diterapkan di seluruh dimensi terakhir prediksi. Karena model Anda mengembalikan logits, Anda perlu mengatur `flag from_logits`."
      ],
      "metadata": {
        "id": "aeHQR3kIW0W8"
      }
    },
    {
      "cell_type": "code",
      "source": [
        "loss = tf.losses.SparseCategoricalCrossentropy(from_logits=True)"
      ],
      "metadata": {
        "id": "tbQpt94DW8Th"
      },
      "execution_count": null,
      "outputs": []
    },
    {
      "cell_type": "code",
      "source": [
        "example_batch_mean_loss = loss(target_example_batch, example_batch_predictions)\n",
        "print(\"Prediction shape: \", example_batch_predictions.shape, \" # (batch_size, sequence_length, vocab_size)\")\n",
        "print(\"Mean loss:        \", example_batch_mean_loss)"
      ],
      "metadata": {
        "colab": {
          "base_uri": "https://localhost:8080/"
        },
        "id": "AyQVkDtxW_W2",
        "outputId": "8fad25b3-3e8f-49e8-b84c-266f267a999c"
      },
      "execution_count": null,
      "outputs": [
        {
          "output_type": "stream",
          "name": "stdout",
          "text": [
            "Prediction shape:  (64, 100, 66)  # (batch_size, sequence_length, vocab_size)\n",
            "Mean loss:         tf.Tensor(4.1894712, shape=(), dtype=float32)\n"
          ]
        }
      ]
    },
    {
      "cell_type": "markdown",
      "source": [
        "Model yang baru diinisialisasi tidak boleh terlalu yakin dengan dirinya sendiri, semua log keluaran harus memiliki besaran yang sama. Untuk mengonfirmasi hal ini, Anda dapat memeriksa bahwa eksponensial dari loss rata-rata harus kira-kira sama dengan ukuran kosakata. Loss yang jauh lebih tinggi berarti model tersebut yakin akan jawaban yang salah, dan memiliki inisialisasi yang buruk:"
      ],
      "metadata": {
        "id": "MXzD1QPPXDwu"
      }
    },
    {
      "cell_type": "code",
      "source": [
        "tf.exp(example_batch_mean_loss).numpy()"
      ],
      "metadata": {
        "colab": {
          "base_uri": "https://localhost:8080/"
        },
        "id": "XQaIPHxUXEVP",
        "outputId": "be73614f-b9e9-4db8-ec57-c41c7920f7af"
      },
      "execution_count": null,
      "outputs": [
        {
          "output_type": "execute_result",
          "data": {
            "text/plain": [
              "65.98789"
            ]
          },
          "metadata": {},
          "execution_count": 35
        }
      ]
    },
    {
      "cell_type": "markdown",
      "source": [
        "Konfigurasikan prosedur pelatihan menggunakan metode tf.keras.Model.compile. Gunakan tf.keras.optimizers.Adam dengan argumen default dan fungsi loss."
      ],
      "metadata": {
        "id": "e-EX3k3ZXNFp"
      }
    },
    {
      "cell_type": "code",
      "source": [
        "model.compile(optimizer='adam', loss=loss)"
      ],
      "metadata": {
        "id": "ef-FHSUjXOYx"
      },
      "execution_count": null,
      "outputs": []
    },
    {
      "cell_type": "markdown",
      "source": [
        "##### **Konfigurasi Checkpoints**\n",
        "\n",
        "Gunakan tf.keras.callbacks.ModelCheckpoint untuk memastikan bahwa checkpoint disimpan selama pelatihan:"
      ],
      "metadata": {
        "id": "XUtOSMPjXUCV"
      }
    },
    {
      "cell_type": "code",
      "source": [
        "# Directory where the checkpoints will be saved\n",
        "checkpoint_dir = './training_checkpoints'\n",
        "# Name of the checkpoint files\n",
        "checkpoint_prefix = os.path.join(checkpoint_dir, \"ckpt_{epoch}\")\n",
        "\n",
        "checkpoint_callback = tf.keras.callbacks.ModelCheckpoint(\n",
        "    filepath=checkpoint_prefix,\n",
        "    save_weights_only=True)"
      ],
      "metadata": {
        "id": "zBXrMu_mXe6m"
      },
      "execution_count": 32,
      "outputs": []
    },
    {
      "cell_type": "markdown",
      "source": [
        "##### **Lakukan Proses Training**\n",
        "\n",
        "Agar waktu pelatihan tidak terlalu lama, gunakan 10 epoch untuk melatih model. Di Colab, setel runtime ke GPU untuk pelatihan yang lebih cepat."
      ],
      "metadata": {
        "id": "eNIV-WSfXiHX"
      }
    },
    {
      "cell_type": "code",
      "source": [
        "EPOCHS = 20"
      ],
      "metadata": {
        "id": "fHLtYCsnXnUf"
      },
      "execution_count": null,
      "outputs": []
    },
    {
      "cell_type": "code",
      "source": [
        "history = model.fit(dataset, epochs=EPOCHS, callbacks=[checkpoint_callback])"
      ],
      "metadata": {
        "colab": {
          "base_uri": "https://localhost:8080/"
        },
        "id": "y0IbQVr4XrIN",
        "outputId": "ef61c8ae-cbc4-407c-9746-7e66b7a20285"
      },
      "execution_count": null,
      "outputs": [
        {
          "output_type": "stream",
          "name": "stdout",
          "text": [
            "Epoch 1/20\n",
            "172/172 [==============================] - 635s 4s/step - loss: 2.7455\n",
            "Epoch 2/20\n",
            "172/172 [==============================] - 599s 3s/step - loss: 2.0041\n",
            "Epoch 3/20\n",
            "172/172 [==============================] - 599s 3s/step - loss: 1.7223\n",
            "Epoch 4/20\n",
            "172/172 [==============================] - 597s 3s/step - loss: 1.5590\n",
            "Epoch 5/20\n",
            "172/172 [==============================] - 597s 3s/step - loss: 1.4591\n",
            "Epoch 6/20\n",
            "172/172 [==============================] - 597s 3s/step - loss: 1.3896\n",
            "Epoch 7/20\n",
            "172/172 [==============================] - 597s 3s/step - loss: 1.3358\n",
            "Epoch 8/20\n",
            "172/172 [==============================] - 597s 3s/step - loss: 1.2902\n",
            "Epoch 9/20\n",
            "172/172 [==============================] - 599s 3s/step - loss: 1.2482\n",
            "Epoch 10/20\n",
            "172/172 [==============================] - 597s 3s/step - loss: 1.2078\n",
            "Epoch 11/20\n",
            "172/172 [==============================] - 599s 3s/step - loss: 1.1686\n",
            "Epoch 12/20\n",
            "172/172 [==============================] - 597s 3s/step - loss: 1.1270\n",
            "Epoch 13/20\n",
            "172/172 [==============================] - 598s 3s/step - loss: 1.0840\n",
            "Epoch 14/20\n",
            "172/172 [==============================] - 598s 3s/step - loss: 1.0386\n",
            "Epoch 15/20\n",
            "172/172 [==============================] - 596s 3s/step - loss: 0.9905\n",
            "Epoch 16/20\n",
            "172/172 [==============================] - 598s 3s/step - loss: 0.9406\n",
            "Epoch 17/20\n",
            "172/172 [==============================] - 598s 3s/step - loss: 0.8892\n",
            "Epoch 18/20\n",
            "172/172 [==============================] - 598s 3s/step - loss: 0.8353\n",
            "Epoch 19/20\n",
            "172/172 [==============================] - 598s 3s/step - loss: 0.7847\n",
            "Epoch 20/20\n",
            "172/172 [==============================] - 599s 3s/step - loss: 0.7353\n"
          ]
        }
      ]
    },
    {
      "cell_type": "markdown",
      "source": [
        "### **Generate Teks**\n",
        "\n",
        "Cara termudah untuk menghasilkan teks dengan model ini adalah dengan menjalankannya dalam loop, dan menyimpan status internal model saat Anda menjalankannya.\n",
        "\n",
        "![image.png](https://github.com/tensorflow/text/blob/master/docs/tutorials/images/text_generation_sampling.png?raw=1)"
      ],
      "metadata": {
        "id": "kZK5VM0VXx7A"
      }
    },
    {
      "cell_type": "markdown",
      "source": [
        "Setiap kali Anda memanggil model, Anda memasukkan beberapa teks dan state internal. Model mengembalikan prediksi untuk karakter berikutnya dan state barunya. Masukkan kembali prediksi dan state ke model untuk terus menghasilkan teks.\n",
        "\n",
        "Berikut ini membuat prediksi satu langkah"
      ],
      "metadata": {
        "id": "7Fpx5PgJYFFy"
      }
    },
    {
      "cell_type": "code",
      "source": [
        "class OneStep(tf.keras.Model):\n",
        "  def __init__(self, model, chars_from_ids, ids_from_chars, temperature=1.0):\n",
        "    super().__init__()\n",
        "    self.temperature = temperature\n",
        "    self.model = model\n",
        "    self.chars_from_ids = chars_from_ids\n",
        "    self.ids_from_chars = ids_from_chars\n",
        "\n",
        "    # Create a mask to prevent \"[UNK]\" from being generated.\n",
        "    skip_ids = self.ids_from_chars(['[UNK]'])[:, None]\n",
        "    sparse_mask = tf.SparseTensor(\n",
        "        # Put a -inf at each bad index.\n",
        "        values=[-float('inf')]*len(skip_ids),\n",
        "        indices=skip_ids,\n",
        "        # Match the shape to the vocabulary\n",
        "        dense_shape=[len(ids_from_chars.get_vocabulary())])\n",
        "    self.prediction_mask = tf.sparse.to_dense(sparse_mask)\n",
        "\n",
        "  @tf.function\n",
        "  def generate_one_step(self, inputs, states=None):\n",
        "    # Convert strings to token IDs.\n",
        "    input_chars = tf.strings.unicode_split(inputs, 'UTF-8')\n",
        "    input_ids = self.ids_from_chars(input_chars).to_tensor()\n",
        "\n",
        "    # Run the model.\n",
        "    # predicted_logits.shape is [batch, char, next_char_logits]\n",
        "    predicted_logits, states = self.model(inputs=input_ids, states=states,\n",
        "                                          return_state=True)\n",
        "    # Only use the last prediction.\n",
        "    predicted_logits = predicted_logits[:, -1, :]\n",
        "    predicted_logits = predicted_logits/self.temperature\n",
        "    # Apply the prediction mask: prevent \"[UNK]\" from being generated.\n",
        "    predicted_logits = predicted_logits + self.prediction_mask\n",
        "\n",
        "    # Sample the output logits to generate token IDs.\n",
        "    predicted_ids = tf.random.categorical(predicted_logits, num_samples=1)\n",
        "    predicted_ids = tf.squeeze(predicted_ids, axis=-1)\n",
        "\n",
        "    # Convert from token ids to characters\n",
        "    predicted_chars = self.chars_from_ids(predicted_ids)\n",
        "\n",
        "    # Return the characters and model state.\n",
        "    return predicted_chars, states"
      ],
      "metadata": {
        "id": "gGVxVxl1YJdZ"
      },
      "execution_count": null,
      "outputs": []
    },
    {
      "cell_type": "code",
      "source": [
        "one_step_model = OneStep(model, chars_from_ids, ids_from_chars)"
      ],
      "metadata": {
        "id": "7FV16x_kYyWp"
      },
      "execution_count": null,
      "outputs": []
    },
    {
      "cell_type": "markdown",
      "source": [
        "Jalankan secara berulang untuk menghasilkan beberapa teks. Melihat teks yang dihasilkan, Anda akan melihat model mengetahui kapan harus menggunakan huruf besar, membuat paragraf, dan meniru kosakata menulis seperti Shakespeare. Karena sedikitnya jumlah epoch pelatihan, model belum belajar membentuk kalimat runtut."
      ],
      "metadata": {
        "id": "SsMH6RAkY0SB"
      }
    },
    {
      "cell_type": "code",
      "source": [
        "start = time.time()\n",
        "states = None\n",
        "next_char = tf.constant(['ROMEO:'])\n",
        "result = [next_char]\n",
        "\n",
        "for n in range(1000):\n",
        "  next_char, states = one_step_model.generate_one_step(next_char, states=states)\n",
        "  result.append(next_char)\n",
        "\n",
        "result = tf.strings.join(result)\n",
        "end = time.time()\n",
        "print(result[0].numpy().decode('utf-8'), '\\n\\n' + '_'*80)\n",
        "print('\\nRun time:', end - start)"
      ],
      "metadata": {
        "colab": {
          "base_uri": "https://localhost:8080/"
        },
        "id": "gHIN_dnIY9kY",
        "outputId": "8dd18d46-77e5-4677-8094-4891322463ff"
      },
      "execution_count": null,
      "outputs": [
        {
          "output_type": "stream",
          "name": "stdout",
          "text": [
            "ROMEO:\n",
            "Thln me sorsdeavn tf, Liurssou sr le this thonn IlAt!?\n",
            "\n",
            "AADAsO:\n",
            "\n",
            "yCJly s,e she, o-'sil the tiy ieoaterl vopth sale blid wous Iope: so, th ou d baf oreH iorannt; wth bplapavafealit ouesy ypeves Ione.\n",
            "I\n",
            "AoR&OvGous moc, tricI\n",
            "cI\n",
            "hethe pany nfonce iut fel\n",
            "ancitb oorl thanou,, youd throule fone Vwc?\n",
            "-L!\n",
            "HKWMangC?\n",
            "\n",
            "Wbaocsthee fells: heacen thers fwars.\n",
            "o\n",
            "s,?\n",
            "Z\n",
            "AL&RX!'MO,:\n",
            "-.\n",
            "\n",
            "BQD:QEVBVZH\n",
            "Q?3Fbday fay ;\n",
            "\n",
            "AA wagiha har onche'thin fy:\n",
            "I\n",
            "\n",
            "\n",
            "FEardg he\n",
            "y anigor mitenevek\n",
            "SaWse pelap, fsy couet, whenrll, bc't Ied hunls.\n",
            "\n",
            "R&P&QzO IrI eoud wif tou cot amaf legs mtot tank mhlifiT, sakhrtat hat dours valrghy hou or tiid fot they wof besy mor mon'cuot lr bek athey Iou.\n",
            "T:'ud mve.3Mcimt mut eomeler she\n",
            "d cere, dgasspofl.\n",
            "NZ kghaeow, ioutbe orechis at an sare, Rnble theret sos wad,:\n",
            "\n",
            "nre aren aounbe,\n",
            "\n",
            "sSHaver:\n",
            "\n",
            "S;\n",
            "IER\n",
            "T!\n",
            "FFmid torr frer, save chat npcathin ourimit, 'nus:\n",
            "I\n",
            "wen' ke\n",
            "\n",
            "AU\n",
            "EMI3\n",
            "Opm'csi\n",
            "ipnved whe d haker chan am mer too therl:\n",
            "\n",
            "AWwind yob pil is soreld R thers hl icirlsss,\n",
            "A\n",
            "BArokk m ichee\n",
            "S\n",
            "C \n",
            "\n",
            "________________________________________________________________________________\n",
            "\n",
            "Run time: 1.9651377201080322\n"
          ]
        }
      ]
    },
    {
      "cell_type": "markdown",
      "source": [
        "Hal termudah yang dapat Anda lakukan untuk meningkatkan hasil adalah dengan melatihnya lebih lama (coba EPOCHS = 30). Anda juga dapat bereksperimen dengan string awal yang berbeda, mencoba menambahkan lapisan RNN lain untuk meningkatkan akurasi model, atau menyesuaikan parameter suhu untuk menghasilkan prediksi yang kurang lebih acak.\n",
        "\n",
        "Jika Anda ingin model menghasilkan teks lebih cepat, hal termudah yang dapat Anda lakukan adalah membuat teks secara batch. Pada contoh di bawah, model menghasilkan 5 keluaran dalam waktu yang hampir sama dengan waktu yang dibutuhkan untuk menghasilkan 1 keluaran di atas."
      ],
      "metadata": {
        "id": "AUfpBQrnY6Gv"
      }
    },
    {
      "cell_type": "code",
      "source": [
        "start = time.time()\n",
        "states = None\n",
        "next_char = tf.constant(['ROMEO:', 'ROMEO:', 'ROMEO:', 'ROMEO:', 'ROMEO:'])\n",
        "result = [next_char]\n",
        "\n",
        "for n in range(1000):\n",
        "  next_char, states = one_step_model.generate_one_step(next_char, states=states)\n",
        "  result.append(next_char)\n",
        "\n",
        "result = tf.strings.join(result)\n",
        "end = time.time()\n",
        "print(result, '\\n\\n' + '_'*80)\n",
        "print('\\nRun time:', end - start)"
      ],
      "metadata": {
        "colab": {
          "base_uri": "https://localhost:8080/"
        },
        "id": "o5TbxXo2Y_ma",
        "outputId": "e87daac5-c681-4531-ebba-5d931a1618e5"
      },
      "execution_count": null,
      "outputs": [
        {
          "output_type": "stream",
          "name": "stdout",
          "text": [
            "tf.Tensor(\n",
            "[b\"ROMEO:\\n\\nfuga.\\n\\n&NaWIcmerere go cetot for deg boury mallloul, gy l the may bor ut:\\n\\nMprir oo les the\\nC\\nW otty.\\nRWAKAverrI mcit oamkkrif ve ood phithan' moke arlven, hhthfd ser we ily Ir ris aaulr 'retle bhan giml 'ninsesy ha.\\nCMuritinqlco, I\\ny hy aoriche mos nitrg\\nslovy aler oiangrss he s in main.\\nAI!\\nYSBtHy me fomhoute\\nTherk: mare wowre thit hangve athe lontonwd lound rveorafla dore sol,, ghanil; theuther wow ool!xfr he nd sthal cois pe d harelr id uh ns y pe ther\\nd\\nhr sh ptin oreg\\n\\nL\\nR&D:Wher Thin;\\n\\nWhed w orp!\\ntsuse\\nABThbin be ther atolr as hid sint be liquv aore was hikves nher eare iou fere:\\n\\nS\\nMlors pesrs, fte, Is vart meile sorey is aor god pound thaas win a forl byou , min's ghiktrnr whae inpe mg.\\n\\nY\\nAEWhea\\nllis hat to.\\nA\\nWhe're y, po yod\\no\\n\\nSTinoy sild her vis te ore heawze ther toucc sthae, chy hoe, mey oos wbet ho wor llmesl y heesosy talry, dongvetod car ing riweveslr, AsldreThara,claHor thof aouth aa th stlancibshim thanhe alatigmlt teou' bo tacispwe mire por tin t he moflloroas \"\n",
            " b\"ROMEO:\\n\\nECCgTEjmttSSnakveg bhe had hes hig lo thilet uie, hers oiqveorRrlc inithe whe nm fere the bougcsom wars wof aund tof sadigApy wavnd mare thon lout oy uhal rels fy berenca, mthe\\nSs athin.\\nCJI aIs iny sg cean, mon tho the;\\nYG ow lae hau y thely ie and tein oea, Io hac?,\\nAARuD\\n3IklWsf.\\nOThl, yy I thi,Athersed:\\nMmdspthiels bod lor piceve il anghyinlere\\nI!?A\\n-SHTAld,\\nThet,\\nN\\n$\\nE:UI\\nYH\\nT-bhthalld he Iops, louy pe mon, schllerareathrnog ious ant tofeesgathr toy herd bid phe what dTuheo aw areu pat y bervee Achaa k iit hare luer faut can.\\n\\nB-UFBereavealvonG dlnit hin  ou iug? ,\\n\\nAH,MCd:\\nON\\nQF'L nols har dt foreswe y lairr thang the chip ha'as o thet ner cis chiThers s amed Roand punshmaIe hanot kord im tf poourt ier.\\nFmlllorerd toak mmae po iol hangasthef kore'usfe der ha m, thu by annt, pou th'n Thau nangeercave be lelkhes chan ham gors'u'.\\n\\nWwioWiwint, sounclle wes yy ibe taror t, cas mot hariutu itpardm th tissst tovyleathe.\\n\\nEjuTyers,\\n.d\\nAt homen swnre:\\nENBL\\nK\\nGRU\\nAX&xIEkWat theer\\nE\\nE\\nT:\"\n",
            " b\"ROMEO:\\nA\\nQSr wusme, blasslde tolf d s mhe tlour, be morl.\\nWl'umead\\nAothencun hat ilt war s on ther tochf ourercn ang'nAde crifl\\nTI\\n\\no; casithouren\\nB,\\nTVdv\\nd toaridoy cin sel fel boatO\\namaumer! woba bin mamek, firoutherisser, thicay th,\\nk tou\\nNes ree fe yr aseps Ie'ra\\n\\n:\\nH yiut, on ions: by bite lur, tofre sos mi.\\nxay!AexmeE\\nCNBov, ge hin wupwf the b' th fe laf yy mith?\\nGOAyKQWphlals oit olr'l nawe d.\\n\\nTcNos thit her tas hheal men'' hof lerthleunn huleFat bol, soemer\\nufD-lZThy y miR-tcitdrss toatuum, tol.\\n\\n'A, whe t,is, simenpr't oplce heuthin te, hat.\\nRLNR&G;MtONI yib pkr\\n ein hers wol'tmenll e.\\nT\\nAt hlone teo tr art tora!\\nDLR\\nYmylc'urfe usaO\\n\\n\\nUNUSAwaor  orer thwhelND\\nOhers ap woak thim, ma s fekl\\n\\n:hrets hlost ar orfk thoitupiyepe dirt is dst seas fo.\\nLNLA ithed wav; or secithei!\\nLDUXOO:gor amcrme tlitoy ks t cs yaitharnndct kinghiud pou\\ndf h berwoove ve me, coi't wornoL\\ntIe.A:\\nHBedry', laCstple male, adn-nmvnasce: yekate tect habthes'n holes thone souunl iris goot,is le thill por esveg oy\"\n",
            " b\"ROMEO:\\n\\nqos imim baveresse ics t ant heis il anr!\\n.\\nSC\\niSn, irevear beiv.\\n\\nAByTcmeril;\\ny,.TYit woor i\\nly vin man dorslthefs, Wmiveer asl wser hhandens tpe gik, ooathas soct chothehe cisegs kd the, so sing tharomes win sed cyont ccir waing, mous, auakg af I, out cner mu g.k plis s the! miureresth, mis sie fons Inor gme wre some the hitadthhint bher fon wi an lur ith maf hin dirin taou citor\\n of,lkeitas iuve pont eos me areset\\nolt so tinu where ger hol, thef orou had yono de.\\nIO\\nAJCTTou le cir.\\n\\nTh,, kocelanfseibes o faneer, chl: dou ranlilodinelre,!\\n\\nRDEWiXakoird whor wat hilerys?\\n\\n\\nMLITceurs touthe thal ashlrlasnerd ad fores gnd wou fost he mtthes oaton': masd ius wh tet li wife m bssmbexig. t seo!\\n\\ne pou, ping.\\nATGitgio, Inased's Iow thrareer,:\\nWCime th id ithy You f, Iobisr wanfs'w ane thfe he.\\nTchel\\nThad whed bang::\\nThy thek an, wour it waperatlr for ipy thes sgh rlle winu thiu cat oure pree, we Aarlat be hord bigfpencng cor!\\nW co l cacared muucrinlo lo y cer, tr he; cin ite; wit hin bhar\"\n",
            " b\"ROMEO:\\nUTIre thnlend carmrtTyiu tarDdereM\\nweigu th me his utecp hore pce tutour thind.\\n\\nBONsthe tose ff!\\n\\n\\nO.S\\n\\nUZESUMEl'aI,\\n\\n\\n-;rf here\\nTh:is fid Iiy bleyy pur f\\n\\n\\nhithhurr m wia.\\nXCG\\nxRwhtine s otrred tat po thenig has yovet to ountiifpee air be.\\nSM$zihellee br, lo to'e t bonqtieur peeOlpeke berdrls hy soncfg sitho; tey foi or veis ad thoy hnthut if tite y bond thca leseth theubalglht pean at:?\\n\\nKAFPy ris lat oulig:\\n\\nIMwece\\nl ses, om bfo cau;\\n\\nMor.\\n\\nAUc?z\\n&3CjdyWawoor ses :docoisin thevegsy woe moris's\\nE ETafe thin ther y.\\n\\nR\\nldofwnl fiuf t at Go e,\\nhtls, pisy, aks skiln proncnvene- thet bengoutproredd, woed tou me woretcmayis thet p:d misit wotreafseeranan s he d,\\n\\nIl tiomhrme mlere,\\n wan whay toles, ont he th, Bt v ye, fek ns;s\\n! odih I ber mat  hnasf, lind es ur thand ar forond, meatls.\\n\\nOSeAkSfllere hinis Iowend tharerevek\\nsve.\\nR\\nEG\\nXXWDAbt gode, chee su bre; y gis wannd is hyy ces ytte set sk tos toc.\\nU\\nDPJyusRuqsord oouund gost be phe iflrty pomt daiurt ure lorit hatev we auuth yos's\"], shape=(5,), dtype=string) \n",
            "\n",
            "________________________________________________________________________________\n",
            "\n",
            "Run time: 3.026383876800537\n"
          ]
        }
      ]
    },
    {
      "cell_type": "markdown",
      "source": [
        "### **Ekspor Model Generator**\n",
        "\n",
        "Model satu langkah ini dapat dengan mudah disimpan dan digunakan kembali, memungkinkan Anda menggunakannya di mana pun tf.saved_model diterima."
      ],
      "metadata": {
        "id": "mqIALQNGZDjO"
      }
    },
    {
      "cell_type": "code",
      "source": [
        "tf.saved_model.save(one_step_model, 'one_step')\n",
        "one_step_reloaded = tf.saved_model.load('one_step')"
      ],
      "metadata": {
        "colab": {
          "base_uri": "https://localhost:8080/"
        },
        "id": "zyb0HUkPZHEI",
        "outputId": "ddf31ce0-f08a-4d86-f5e5-55eecef6a1bf"
      },
      "execution_count": null,
      "outputs": [
        {
          "output_type": "stream",
          "name": "stderr",
          "text": [
            "WARNING:tensorflow:Skipping full serialization of Keras layer <__main__.OneStep object at 0x78194a121f60>, because it is not built.\n",
            "WARNING:tensorflow:Model's `__init__()` arguments contain non-serializable objects. Please implement a `get_config()` method in the subclassed Model for proper saving and loading. Defaulting to empty config.\n",
            "WARNING:tensorflow:Model's `__init__()` arguments contain non-serializable objects. Please implement a `get_config()` method in the subclassed Model for proper saving and loading. Defaulting to empty config.\n"
          ]
        }
      ]
    },
    {
      "cell_type": "code",
      "source": [
        "states = None\n",
        "next_char = tf.constant(['ROMEO:'])\n",
        "result = [next_char]\n",
        "\n",
        "for n in range(100):\n",
        "  next_char, states = one_step_reloaded.generate_one_step(next_char, states=states)\n",
        "  result.append(next_char)\n",
        "\n",
        "print(tf.strings.join(result)[0].numpy().decode(\"utf-8\"))"
      ],
      "metadata": {
        "colab": {
          "base_uri": "https://localhost:8080/"
        },
        "id": "Z8LXQ79bZIa0",
        "outputId": "87357746-857e-494f-8e34-ac2283cf5d2c"
      },
      "execution_count": null,
      "outputs": [
        {
          "output_type": "stream",
          "name": "stdout",
          "text": [
            "ROMEO:s motoue Iy Iod cwere' ve iol inouwicafws thinmoed.\n",
            "RYOWesinr.\n",
            "\n",
            "O\n",
            "WbEan; yee\n",
            "osfscime ise tary ther \n"
          ]
        }
      ]
    },
    {
      "cell_type": "markdown",
      "source": [
        "## **TUGAS**\n",
        "\n",
        "Prosedur pelatihan pada praktikum 2 merupakan prosedur sederhana, yang tidak memberi Anda banyak kendali. Model ini menggunakan \"teacher-forcing\" yang mencegah prediksi buruk diumpankan kembali ke model, sehingga model tidak pernah belajar untuk pulih dari kesalahan.\n",
        "\n",
        "Jadi, setelah Anda melihat cara menjalankan model secara manual, selanjutnya Anda akan mengimplementasikan custom loop pelatihan. Hal ini memberikan titik awal jika, misalnya, Anda ingin menerapkan pembelajaran kurikulum untuk membantu menstabilkan keluaran open-loop model. Bagian terpenting dari loop pelatihan khusus adalah fungsi langkah pelatihan.\n",
        "\n",
        "Gunakan `tf.GradientTape` untuk men track nilai gradient. Anda dapat mempelajari lebih lanjut tentang pendekatan ini dengan membaca [eager execution guide](https://www.tensorflow.org/guide/eager).\n",
        "\n",
        "Prosedurnya adalah:\n",
        "  1. Jalankan Model dan hitung loss dengan tf.GradientTape.\n",
        "  2. Hitung update dan terapkan pada model dengan optimizer"
      ],
      "metadata": {
        "id": "9NevZPJyby_2"
      }
    },
    {
      "cell_type": "markdown",
      "source": [
        "#### **Kode Program**"
      ],
      "metadata": {
        "id": "i6oKGBOjsWV7"
      }
    },
    {
      "cell_type": "code",
      "source": [
        "class CustomTraining(MyModel):\n",
        "  @tf.function\n",
        "  def train_step(self, inputs):\n",
        "      inputs, labels = inputs\n",
        "      with tf.GradientTape() as tape:\n",
        "          predictions = self(inputs, training=True)\n",
        "          loss = self.loss(labels, predictions)\n",
        "      grads = tape.gradient(loss, model.trainable_variables)\n",
        "      self.optimizer.apply_gradients(zip(grads, model.trainable_variables))\n",
        "\n",
        "      return {'loss': loss}"
      ],
      "metadata": {
        "id": "WaBjxcp0chot"
      },
      "execution_count": 27,
      "outputs": []
    },
    {
      "cell_type": "markdown",
      "source": [
        "Kode diatas menerapkan train_step method sesuai dengan  [Keras' `train_step` conventions](https://www.tensorflow.org/guide/keras/customizing_what_happens_in_fit). Ini opsional, tetapi memungkinkan Anda mengubah perilaku langkah pelatihan dan tetap menggunakan keras [`Model.compile`](https://www.tensorflow.org/api_docs/python/tf/keras/Model#compile) and [`Model.fit methods`](https://www.tensorflow.org/api_docs/python/tf/keras/Model#fit)."
      ],
      "metadata": {
        "id": "fmaWaxSWcmeO"
      }
    },
    {
      "cell_type": "code",
      "source": [
        "model = CustomTraining(\n",
        "    vocab_size=len(ids_from_chars.get_vocabulary()),\n",
        "    embedding_dim=embedding_dim,\n",
        "    rnn_units=rnn_units)"
      ],
      "metadata": {
        "id": "gjKGP8gedb0h"
      },
      "execution_count": 28,
      "outputs": []
    },
    {
      "cell_type": "code",
      "source": [
        "model.compile(optimizer = tf.keras.optimizers.Adam(),\n",
        "              loss=tf.keras.losses.SparseCategoricalCrossentropy(from_logits=True))"
      ],
      "metadata": {
        "id": "Vy-Wahb0dgFC"
      },
      "execution_count": 29,
      "outputs": []
    },
    {
      "cell_type": "code",
      "source": [
        "model.fit(dataset, epochs=1)"
      ],
      "metadata": {
        "colab": {
          "base_uri": "https://localhost:8080/"
        },
        "id": "LAFTguIddi2u",
        "outputId": "26a5a3ba-9204-49af-c596-e6757ef46236"
      },
      "execution_count": 30,
      "outputs": [
        {
          "output_type": "stream",
          "name": "stdout",
          "text": [
            "172/172 [==============================] - 20s 52ms/step - loss: 2.6999\n"
          ]
        },
        {
          "output_type": "execute_result",
          "data": {
            "text/plain": [
              "<keras.src.callbacks.History at 0x78a70960bdc0>"
            ]
          },
          "metadata": {},
          "execution_count": 30
        }
      ]
    },
    {
      "cell_type": "code",
      "source": [
        "EPOCHS = 10\n",
        "\n",
        "mean = tf.metrics.Mean()\n",
        "\n",
        "for epoch in range(EPOCHS):\n",
        "    start = time.time()\n",
        "\n",
        "    mean.reset_states()\n",
        "    for (batch_n, (inp, target)) in enumerate(dataset):\n",
        "        logs = model.train_step([inp, target])\n",
        "        mean.update_state(logs['loss'])\n",
        "\n",
        "        if batch_n % 50 == 0:\n",
        "            template = f\"Epoch {epoch+1} Batch {batch_n} Loss {logs['loss']:.4f}\"\n",
        "            print(template)\n",
        "\n",
        "    # saving (checkpoint) the model every 5 epochs\n",
        "    if (epoch + 1) % 5 == 0:\n",
        "        model.save_weights(checkpoint_prefix.format(epoch=epoch))\n",
        "\n",
        "    print()\n",
        "    print(f'Epoch {epoch+1} Loss: {mean.result().numpy():.4f}')\n",
        "    print(f'Time taken for 1 epoch {time.time() - start:.2f} sec')\n",
        "    print(\"_\"*80)\n",
        "\n",
        "model.save_weights(checkpoint_prefix.format(epoch=epoch))"
      ],
      "metadata": {
        "colab": {
          "base_uri": "https://localhost:8080/"
        },
        "id": "LL3lMtfOdlyW",
        "outputId": "79a5e8e0-ff33-40c3-8230-fd7b1c990429"
      },
      "execution_count": 33,
      "outputs": [
        {
          "output_type": "stream",
          "name": "stdout",
          "text": [
            "Epoch 1 Batch 0 Loss 1.2975\n",
            "Epoch 1 Batch 50 Loss 1.2969\n",
            "Epoch 1 Batch 100 Loss 1.3357\n",
            "Epoch 1 Batch 150 Loss 1.2886\n",
            "\n",
            "Epoch 1 Loss: 1.3242\n",
            "Time taken for 1 epoch 11.53 sec\n",
            "________________________________________________________________________________\n",
            "Epoch 2 Batch 0 Loss 1.2550\n",
            "Epoch 2 Batch 50 Loss 1.2804\n",
            "Epoch 2 Batch 100 Loss 1.2866\n",
            "Epoch 2 Batch 150 Loss 1.2821\n",
            "\n",
            "Epoch 2 Loss: 1.2788\n",
            "Time taken for 1 epoch 10.87 sec\n",
            "________________________________________________________________________________\n",
            "Epoch 3 Batch 0 Loss 1.2040\n",
            "Epoch 3 Batch 50 Loss 1.2449\n",
            "Epoch 3 Batch 100 Loss 1.2336\n",
            "Epoch 3 Batch 150 Loss 1.2286\n",
            "\n",
            "Epoch 3 Loss: 1.2373\n",
            "Time taken for 1 epoch 10.76 sec\n",
            "________________________________________________________________________________\n",
            "Epoch 4 Batch 0 Loss 1.2041\n",
            "Epoch 4 Batch 50 Loss 1.1995\n",
            "Epoch 4 Batch 100 Loss 1.2187\n",
            "Epoch 4 Batch 150 Loss 1.1961\n",
            "\n",
            "Epoch 4 Loss: 1.1972\n",
            "Time taken for 1 epoch 10.96 sec\n",
            "________________________________________________________________________________\n",
            "Epoch 5 Batch 0 Loss 1.1242\n",
            "Epoch 5 Batch 50 Loss 1.1876\n",
            "Epoch 5 Batch 100 Loss 1.1819\n",
            "Epoch 5 Batch 150 Loss 1.1998\n",
            "\n",
            "Epoch 5 Loss: 1.1563\n",
            "Time taken for 1 epoch 11.19 sec\n",
            "________________________________________________________________________________\n",
            "Epoch 6 Batch 0 Loss 1.0981\n",
            "Epoch 6 Batch 50 Loss 1.0666\n",
            "Epoch 6 Batch 100 Loss 1.0906\n",
            "Epoch 6 Batch 150 Loss 1.1326\n",
            "\n",
            "Epoch 6 Loss: 1.1142\n",
            "Time taken for 1 epoch 11.17 sec\n",
            "________________________________________________________________________________\n",
            "Epoch 7 Batch 0 Loss 1.0550\n",
            "Epoch 7 Batch 50 Loss 1.0726\n",
            "Epoch 7 Batch 100 Loss 1.0984\n",
            "Epoch 7 Batch 150 Loss 1.0747\n",
            "\n",
            "Epoch 7 Loss: 1.0706\n",
            "Time taken for 1 epoch 11.83 sec\n",
            "________________________________________________________________________________\n",
            "Epoch 8 Batch 0 Loss 0.9851\n",
            "Epoch 8 Batch 50 Loss 0.9876\n",
            "Epoch 8 Batch 100 Loss 1.0168\n",
            "Epoch 8 Batch 150 Loss 1.0619\n",
            "\n",
            "Epoch 8 Loss: 1.0228\n",
            "Time taken for 1 epoch 11.62 sec\n",
            "________________________________________________________________________________\n",
            "Epoch 9 Batch 0 Loss 0.9607\n",
            "Epoch 9 Batch 50 Loss 0.9608\n",
            "Epoch 9 Batch 100 Loss 1.0093\n",
            "Epoch 9 Batch 150 Loss 0.9712\n",
            "\n",
            "Epoch 9 Loss: 0.9746\n",
            "Time taken for 1 epoch 11.79 sec\n",
            "________________________________________________________________________________\n",
            "Epoch 10 Batch 0 Loss 0.8858\n",
            "Epoch 10 Batch 50 Loss 0.9112\n",
            "Epoch 10 Batch 100 Loss 0.9298\n",
            "Epoch 10 Batch 150 Loss 0.9524\n",
            "\n",
            "Epoch 10 Loss: 0.9232\n",
            "Time taken for 1 epoch 11.94 sec\n",
            "________________________________________________________________________________\n"
          ]
        }
      ]
    },
    {
      "cell_type": "markdown",
      "source": [
        "##### **Prediction: Generate Teks**"
      ],
      "metadata": {
        "id": "RFNdvRBvby5_"
      }
    },
    {
      "cell_type": "code",
      "source": [
        "class OneStep(tf.keras.Model):\n",
        "  def __init__(self, model, chars_from_ids, ids_from_chars, temperature=1.0):\n",
        "    super().__init__()\n",
        "    self.temperature = temperature\n",
        "    self.model = model\n",
        "    self.chars_from_ids = chars_from_ids\n",
        "    self.ids_from_chars = ids_from_chars\n",
        "\n",
        "    # Create a mask to prevent \"[UNK]\" from being generated.\n",
        "    skip_ids = self.ids_from_chars(['[UNK]'])[:, None]\n",
        "    sparse_mask = tf.SparseTensor(\n",
        "        # Put a -inf at each bad index.\n",
        "        values=[-float('inf')]*len(skip_ids),\n",
        "        indices=skip_ids,\n",
        "        # Match the shape to the vocabulary\n",
        "        dense_shape=[len(ids_from_chars.get_vocabulary())])\n",
        "    self.prediction_mask = tf.sparse.to_dense(sparse_mask)\n",
        "\n",
        "  @tf.function\n",
        "  def generate_one_step(self, inputs, states=None):\n",
        "    # Convert strings to token IDs.\n",
        "    input_chars = tf.strings.unicode_split(inputs, 'UTF-8')\n",
        "    input_ids = self.ids_from_chars(input_chars).to_tensor()\n",
        "\n",
        "    # Run the model.\n",
        "    # predicted_logits.shape is [batch, char, next_char_logits]\n",
        "    predicted_logits, states = self.model(inputs=input_ids, states=states,\n",
        "                                          return_state=True)\n",
        "    # Only use the last prediction.\n",
        "    predicted_logits = predicted_logits[:, -1, :]\n",
        "    predicted_logits = predicted_logits/self.temperature\n",
        "    # Apply the prediction mask: prevent \"[UNK]\" from being generated.\n",
        "    predicted_logits = predicted_logits + self.prediction_mask\n",
        "\n",
        "    # Sample the output logits to generate token IDs.\n",
        "    predicted_ids = tf.random.categorical(predicted_logits, num_samples=1)\n",
        "    predicted_ids = tf.squeeze(predicted_ids, axis=-1)\n",
        "\n",
        "    # Convert from token ids to characters\n",
        "    predicted_chars = self.chars_from_ids(predicted_ids)\n",
        "\n",
        "    # Return the characters and model state.\n",
        "    return predicted_chars, states"
      ],
      "metadata": {
        "id": "6oXUOA9qZOJ4"
      },
      "execution_count": 34,
      "outputs": []
    },
    {
      "cell_type": "code",
      "source": [
        "one_step_model = OneStep(model, chars_from_ids, ids_from_chars)"
      ],
      "metadata": {
        "id": "zRjF7rjIZRI3"
      },
      "execution_count": 35,
      "outputs": []
    },
    {
      "cell_type": "code",
      "source": [
        "start = time.time()\n",
        "states = None\n",
        "next_char = tf.constant(['ROMEO:'])\n",
        "result = [next_char]\n",
        "\n",
        "for n in range(1000):\n",
        "  next_char, states = one_step_model.generate_one_step(next_char, states=states)\n",
        "  result.append(next_char)\n",
        "\n",
        "result = tf.strings.join(result)\n",
        "end = time.time()\n",
        "print(result[0].numpy().decode('utf-8'), '\\n\\n' + '_'*80)\n",
        "print('\\nRun time:', end - start)"
      ],
      "metadata": {
        "colab": {
          "base_uri": "https://localhost:8080/"
        },
        "id": "ZjqtX9GDZTJ0",
        "outputId": "2a01db5a-8e81-40b0-b6d5-49614bcfdc21"
      },
      "execution_count": 38,
      "outputs": [
        {
          "output_type": "stream",
          "name": "stdout",
          "text": [
            "ROMEO:\n",
            "Madam, I'll crave you, catting wall:\n",
            "My love am bound to share a case to go in.\n",
            "I'll tell him of this dire my war, my sick and threatenant\n",
            "And help to revenee from whence the son:--trengs that parlia:\n",
            "What dog bable his noble cousin! farlwoo, whose name\n",
            "answer to the sea for a holemisy here,\n",
            "And he shall I frian 'O, that your ments did church,\n",
            "Make haste, and kissing once I'll keep thee come.\n",
            "\n",
            "HORTENSS:\n",
            "I' the rile convey'd to attended new marriage, do me;\n",
            "And that was would absolute lives, gentlemen.\n",
            "\n",
            "BRUTUS:\n",
            "But, I pray you, take lengthen of waterthly.\n",
            "\n",
            "DUKE VINCENTO:\n",
            "\n",
            "Third Servingman:\n",
            "Aution, gaplain, ere it be dishonour'd rule,\n",
            "Tell her shall have my swift consent,\n",
            "As 'lastor to my heaviest ape,\n",
            "Put not an Edward, with a bloody sin\n",
            "Is the mut and tell the bentremes of some other.\n",
            "Make admits me have perform'd from belly,\n",
            "Do palua against my throne. Mend your\n",
            "But sweet and only charges to be.\n",
            "\n",
            "BUCKINGHAM:\n",
            "Upon God and that she was one or our knees,\n",
            "We shall not wont both some hour \n",
            "\n",
            "________________________________________________________________________________\n",
            "\n",
            "Run time: 3.1449687480926514\n"
          ]
        }
      ]
    },
    {
      "cell_type": "code",
      "source": [
        "start = time.time()\n",
        "states = None\n",
        "next_char = tf.constant(['ROMEO:', 'ROMEO:', 'ROMEO:', 'ROMEO:', 'ROMEO:'])\n",
        "result = [next_char]\n",
        "\n",
        "for n in range(1000):\n",
        "  next_char, states = one_step_model.generate_one_step(next_char, states=states)\n",
        "  result.append(next_char)\n",
        "\n",
        "result = tf.strings.join(result)\n",
        "end = time.time()\n",
        "print(result, '\\n\\n' + '_'*80)\n",
        "print('\\nRun time:', end - start)"
      ],
      "metadata": {
        "colab": {
          "base_uri": "https://localhost:8080/"
        },
        "id": "d1UtJKIzZZSi",
        "outputId": "ecd1c4ac-30a3-48d2-c843-e3d040c6e0cf"
      },
      "execution_count": 39,
      "outputs": [
        {
          "output_type": "stream",
          "name": "stdout",
          "text": [
            "tf.Tensor(\n",
            "[b\"ROMEO:\\nBut only his won my saints? what noble cousin\\nHath yield your liveries; and, as the Earl of Warwick flints\\nhopes with otherwill's bred bids in deach he hath\\nWere four and unecentany.\\n\\nThird Citizen:\\nAt least two heaving arms:\\nBesides, all quiet lens had lack'd with bloody Cletund?\\nAs thou shalt reach not great Plantagene,\\nHave counsel with wealful willing, for my patron's light:\\nBut do not like the cause is broken wonder;\\nIf I bo here, did suit of me.\\n\\nPOMPEY:\\nStrike him, God dilb, sir; I will convey my tongue.\\n\\nGLOUCESTER:\\nThe man, what of age? he is violent, stand in one\\nFrenced them sure out an ace, and towarder:\\nBy this new gracious strive had been taunts, and they of no great affection, victory!\\nThat, in this time? and, say, Montague, I say, Lascius,\\nAnd death's best that, and my tark in sweets,\\nI may not pass you have med lose the realm;\\nAnd, afore God, my Lord of Gloucester,\\nExcelen in thee than I be guiltted justice.\\n\\nDUKE VINCENTIO:\\nStay by the farlon all thyself and by my\\nTh\"\n",
            " b\"ROMEO:\\nNay, to your grace not. Worthy Margaret;\\nBut if it were, he shall not be; yet she\\nstands that art thou hadst a sin in wined: A fow rudol of my word,\\nYea, castle, poor soul, having noted him\\nAgainst him for according to your father:\\nNay, not a baglad,' bearing stars: then burial Telbs,\\nA death of man and Derby, of death,\\nAs nimb'd the fair so long as I hate haz;\\nBut with a lave cornled in the curel\\nOf his sins' sevender.' Mysterais, O charge;\\nIf love demand, being no opening thoughts,\\nHe would have fault be eljuded by some vanity.\\n\\nGLOUCESTER:\\nAnd let them good deeds downraw with the nece,\\nAnd thereby in thy lips and queen of claps,\\nLest water Citizen:\\nAnd wit his sacraftrement came awhile, where I not?\\n\\nLUCENTIO:\\nMarry, milding the roof duke, I'll part with me.\\n\\nGLOUCESTER:\\nBut do you be?\\n\\nROMEO:\\nAlas, alas!\\nWill you be set under her uncle?\\nO do! and, say, would you be gentlemen: an your judgment\\nAre no change; sending, twice as 'tis\\nOur country's heir to him.\\n\\nCAPULET:\\nSo cozard them\"\n",
            " b\"ROMEO:\\nShe had the damn:\\nAbother, to encounter I have ever:\\nBe you, no request. But, O, the gaunt?\\n\\nNORTHUMBERLAND:\\nIt came his folly, I would not long to have.\\n\\nBUCKINGHAM:\\nPiletly and my mistress them and looks before:\\nCome, condemn'd! how if I know no croth?\\n\\nMENENIUS:\\nWho love them and my loving liege, if I say, sin, sir, again!\\n\\nGLOUCESTER:\\nCame to my tale man.\\n\\nMISTRESS OVERDONE:\\nWhy, night! take me! and forward, cyildren! What's the narity?\\n\\nCORIOLANUS:\\nHe hath some five and dreadful love; thy beauteous practise,\\nWhich cries 'Gasters, and of I saw her propermes,\\nWhom for a hermard, for all he was a tomm;\\nOr in thy words whom I with seasing Vince,\\nTo do assure thee, loving heaven in thy stay,\\nI have forgot your grace! you know me in the world,\\nAnd hear, myself within thy charge, I'll be the\\nThrice and strike at your bear,\\nAnd mansle not court-seducance, a good die and prison.\\n\\nROMEO:\\n\\nProvost:\\nPardon, PetERWA:\\nNo heart, a pair of state, If we are kneel\\nAbto these knaves me so die not.\\n\"\n",
            " b\"ROMEO:\\n\\nSICINIUS:\\nOne that will find out fool!\\n\\nGREMIO:\\nWhy, I warrant it note in me?\\n\\nLUCIO:\\nIt a hand; that, at your knees to be.\\n\\nPAULINA:\\nHappily\\nYour report is sound an old tongue or a\\ndam's worthy grave. And then we shall be here--the lambers on a king, sour'd;\\nThe balm had never weep so under a dying, cannot equall's\\nWhen yields a babe: put in her years, he drown'd your beard:\\nBoth that any thing for we have ladge on\\noff, mood ere to make him a miler;\\nAnd thus I come two Back, and with the business,\\nI read up all go little after liberture,\\nAnd only that lives nothing but in\\nthe face else hell of her wholesome fool withorth;\\nFor I will ruise her remembering her off,\\nBut she, I'll glarl'd his steal! are made to begin?\\n\\nEDWARD:\\nI know the Duke of Norfolk. What, art thou so? then we proceed\\nWhile life or dark to you, and yet go court-hearted\\nHastings, let plucks in no other right,\\nNot telling for your colingen: speak,\\nLead unfall'd upon him.\\n\\nDUKE OF YORK:\\nAy, thus hast thou not die to-ni\"\n",
            " b\"ROMEO:\\nGo you love?\\n\\nPAULINA:\\nWhate'er my old worship'd me not live,\\nI'll give him part, sir; and therefore, take my house,\\nMy shame, though leave as firm as shame. do hing me!\\nI have true substantionally as free as down.\\n\\nCAMILLO:\\nYou are all happy is another.\\n\\nDUKE OF YORK:\\nWhat willing you will hear no uncle? You can but pisy\\nBothing Ramed Contrars, but even in the countera, the armour\\nPhanta slain of civil and fearsh lew Blint,\\nBefore and not offended the black-build arm;\\nWho loves not on my silent tender haste,\\nAnd with place hend'd of conscience is the world.\\n\\nVIRGILIA:\\nYou would banished and her love before\\nI shall have me against their sorrow he is note of it:\\nI do depart, whence didst thou stand not then.\\n\\nPOLIXENES:\\nSir, transman to As:\\nAnd when he cannot,--\\n\\nANTIGONUS:\\nWhat! look, what a very sixter, todage?\\n\\nSecond Murderer:\\nAnd son my body's lands and goods me on't.\\n\\nANGELO:\\nYou Vale is come to you.\\n\\nCOMINIUS:\\nDoes not hone, even now, Isanies, we win a silver maid,\\nHour is the l\"], shape=(5,), dtype=string) \n",
            "\n",
            "________________________________________________________________________________\n",
            "\n",
            "Run time: 2.617151975631714\n"
          ]
        }
      ]
    },
    {
      "cell_type": "markdown",
      "source": [
        "Jalankan kode diatas dan sebutkan perbedaanya dengan praktikum 2?"
      ],
      "metadata": {
        "id": "Ve08CbX2dp28"
      }
    },
    {
      "cell_type": "markdown",
      "source": [
        "### **Analisis Perbedaan Hasil Praktikum 2 dengan Tugas**"
      ],
      "metadata": {
        "id": "tOyhrUz5lOjl"
      }
    },
    {
      "cell_type": "markdown",
      "source": [
        "* **Praktikum 2**\n",
        "\n",
        "  Dalam **Praktikum 2**, digunakan metode “teacher-forcing” selama pelatihan. Ini berarti pada setiap langkah waktu selama pelatihan, model diberi input yang “benar” dari data pelatihan. Jadi, jika model membuat prediksi yang salah, maka akan segera “dikoreksi” dengan input yang benar.\n",
        "\n",
        "  Meskipun hal itu bisa membantu model belajar lebih cepat, itu juga berarti model tidak belajar bagaimana mengoreksi kesalahan. Jika model membuat prediksi yang salah saat digunakan dalam mode generatif (yaitu, membuat prediksi berdasarkan prediksi sebelumnya), tidak ada mekanisme untuk “mengoreksi” kesalahan tersebut. Jadi, jika model membuat kesalahan dalam prediksinya, kesalahan tersebut tidak berdampak pada langkah waktu berikutnya karena input yang benar selalu diberikan.\n",
        "\n",
        "* **Tugas**\n",
        "\n",
        "  Di sisi lain, pada **Tugas**, diimplementasikan loop pelatihan kustom. Dalam loop ini, tidak digunakan “teacher-forcing”. Sebaliknya, model dibiarkan membuat prediksi berdasarkan input sebelumnya, dan kemudian menghitung loss berdasarkan seberapa dekat prediksi tersebut dengan target yang benar. Kemudian, menggunakan `tf.GradientTape`, dilacak gradien loss tadi sehubungan dengan variabel yang dapat dilatih dari model dan menerapkannya untuk memperbarui variabel tersebut. Dengan cara itu, model belajar untuk mengoreksi kesalahan, karena model membuat prediksi berdasarkan prediksinya sendiri dari langkah waktu sebelumnya. Jadi, jika model membuat kesalahan, kesalahan tersebut “dibawa” ke langkah berikutnya karena prediksi yang salah akan menjadi input untuk langkah berikutnya. Dengan kata lain, setiap kesalahan pada tiap langkah akan mempengaruhi hasil prediksi model.\n",
        "\n",
        "  Selain itu, dengan menggunakan loop pelatihan kustom, kita memiliki lebih banyak kontrol atas proses pelatihan. Misalnya, kita dapat menyimpan model pada interval tertentu, atau menghitung rata-rata loss selama setiap epoch. Ini bisa sangat berguna untuk memantau proses pelatihan dan men-debug masalah yang mungkin muncul."
      ],
      "metadata": {
        "id": "exEM8I2PsukC"
      }
    },
    {
      "cell_type": "markdown",
      "source": [
        "* **Pengaruh Jumlah Epoch**\n",
        "\n",
        "  Jumlah epoch dalam pelatihan model sangat penting dan dapat mempengaruhi hasil akhir prediksi model. Epoch adalah satu siklus lengkap di mana seluruh dataset pelatihan telah melewati jaringan saraf (dalam hal ini, RNN) sekali.\n",
        "\n",
        "    1. Jika jumlah epoch terlalu sedikit: Model mungkin tidak memiliki cukup waktu untuk belajar dari data. Dalam hal ini, model mungkin underfit, yang berarti model tidak belajar cukup baik dari data pelatihan dan tidak dapat menangkap pola yang ada dalam data. Akibatnya, model mungkin tidak melakukan prediksi yang baik.\n",
        "    2. Jika jumlah epoch terlalu banyak: Di sisi lain, jika model dilatih untuk terlalu banyak epoch, model mungkin overfit. Ini berarti model telah belajar terlalu baik dari data pelatihan, termasuk noise dan outlier, dan mungkin tidak dapat menggeneralisasi dengan baik ke data baru. Dalam hal ini, meskipun model mungkin melakukan prediksi yang sangat baik pada data pelatihan, ia mungkin tidak melakukan prediksi yang baik pada data yang belum pernah dilihat sebelumnya.\n",
        "\n",
        "  Dengan menggunakan loop pelatihan kustom, kita dapat memantau loss rata-rata selama setiap epoch dan menyimpan model pada interval tertentu. Ini memungkinkan kita untuk melihat bagaimana model belajar seiring waktu dan memilih model terbaik berdasarkan performanya pada data validasi. Misalnya, kita bisa memilih model dengan loss validasi terendah sebagai model terbaik kita. Dengan demikian, jumlah epoch dan bagaimana kita menyimpan dan memilih model dapat memiliki dampak besar pada hasil akhir prediksi model.\n",
        "\n",
        "* **Pembelajaran pada Model**\n",
        "\n",
        "  Baik pada praktikum 2 (dilatih selama 20 epoch) maupun tugas (dilatih selama 10 epoch), tampaknya model belajar seiring berjalannya waktu, ditunjukkan oleh penurunan dalam loss rata-rata setiap epoch. Ini menunjukkan bahwa model belajar dari data pelatihan dan menjadi semakin baik dalam memprediksi karakter berikutnya dalam urutan.\n",
        "\n",
        "  Dengan menggunakan loop pelatihan kustom, kita dapat memantau perubahan ini dalam loss rata-rata selama setiap epoch. Dengan memantau loss selama setiap epoch dan menyimpan model pada interval tertentu, kita dapat memiliki kontrol yang lebih baik atas proses pelatihan dan membuat keputusan yang lebih baik tentang model mana yang harus digunakan."
      ],
      "metadata": {
        "id": "zBTcGodnp_Gv"
      }
    },
    {
      "cell_type": "markdown",
      "source": [
        "* **Hasil Generate Teks**\n",
        "\n",
        "  Pada **praktikum 2**, teks yang dihasilkan tampaknya lebih acak dan kurang kohesif. Ini mungkin karena model dilatih dengan metode “teacher-forcing”, yang berarti model tidak belajar bagaimana memulihkan diri dari kesalahan prediksi.\n",
        "  Sedangkan pada **tugas**, teks yang dihasilkan tampaknya sedikit lebih kohesif, mungkin karena model dilatih dengan loop pelatihan kustom yang memungkinkan model untuk belajar bagaimana menangani kesalahan prediksi."
      ],
      "metadata": {
        "id": "ZRifqk-XatEC"
      }
    }
  ]
}